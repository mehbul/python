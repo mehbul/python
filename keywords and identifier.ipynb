{
 "cells": [
  {
   "cell_type": "code",
   "execution_count": 1,
   "id": "a8a51dfe",
   "metadata": {},
   "outputs": [
    {
     "name": "stdout",
     "output_type": "stream",
     "text": [
      "True\n",
      "False\n"
     ]
    }
   ],
   "source": [
    "#true and false\n",
    "print(5==5)\n",
    "print(5>5)"
   ]
  },
  {
   "cell_type": "code",
   "execution_count": 2,
   "id": "5c670789",
   "metadata": {},
   "outputs": [
    {
     "name": "stdout",
     "output_type": "stream",
     "text": [
      "False\n",
      "False\n",
      "False\n",
      "True\n"
     ]
    }
   ],
   "source": [
    "#None\n",
    "print(None==0)\n",
    "print(None==[])\n",
    "print(None==False)\n",
    "print(None==None)"
   ]
  },
  {
   "cell_type": "code",
   "execution_count": 3,
   "id": "5522210c",
   "metadata": {},
   "outputs": [
    {
     "name": "stdout",
     "output_type": "stream",
     "text": [
      "False\n",
      "True\n",
      "False\n"
     ]
    }
   ],
   "source": [
    "#and or not\n",
    "print(True and False)\n",
    "print(True or False)\n",
    "print(not True)"
   ]
  },
  {
   "cell_type": "code",
   "execution_count": 4,
   "id": "1b83f971",
   "metadata": {},
   "outputs": [
    {
     "name": "stdout",
     "output_type": "stream",
     "text": [
      "-1.0\n"
     ]
    }
   ],
   "source": [
    "#as\n",
    "import math as mymath\n",
    "print(mymath.cos(mymath.pi))"
   ]
  },
  {
   "cell_type": "code",
   "execution_count": 6,
   "id": "ac742a22",
   "metadata": {},
   "outputs": [],
   "source": [
    "#assert\n",
    "assert 5>4\n",
    "assert 5==5"
   ]
  },
  {
   "cell_type": "code",
   "execution_count": 8,
   "id": "362873ee",
   "metadata": {},
   "outputs": [
    {
     "name": "stdout",
     "output_type": "stream",
     "text": [
      "1\n",
      "2\n",
      "3\n",
      "4\n"
     ]
    }
   ],
   "source": [
    "#break\n",
    "for i in range(1,11):\n",
    "    if(i==5):\n",
    "        break\n",
    "    print(i)"
   ]
  },
  {
   "cell_type": "code",
   "execution_count": 10,
   "id": "8ac35f4b",
   "metadata": {},
   "outputs": [
    {
     "name": "stdout",
     "output_type": "stream",
     "text": [
      "1\n",
      "2\n",
      "3\n",
      "4\n",
      "6\n",
      "7\n"
     ]
    }
   ],
   "source": [
    "#continue\n",
    "for i in range(1,8):\n",
    "    if(i==5):\n",
    "        continue\n",
    "    print(i)"
   ]
  },
  {
   "cell_type": "code",
   "execution_count": 16,
   "id": "0da47347",
   "metadata": {},
   "outputs": [
    {
     "name": "stdout",
     "output_type": "stream",
     "text": [
      "10\n"
     ]
    }
   ],
   "source": [
    "#del\n",
    "a=10\n",
    "print(a)\n",
    "del a"
   ]
  },
  {
   "cell_type": "code",
   "execution_count": 15,
   "id": "137917e9",
   "metadata": {},
   "outputs": [
    {
     "name": "stdout",
     "output_type": "stream",
     "text": [
      "-0.8390715290764524\n"
     ]
    }
   ],
   "source": [
    "#from...import\n",
    "import math\n",
    "from math import cos\n",
    "print(cos(10))"
   ]
  },
  {
   "cell_type": "code",
   "execution_count": 18,
   "id": "8c2f19a0",
   "metadata": {},
   "outputs": [
    {
     "name": "stdout",
     "output_type": "stream",
     "text": [
      "10\n",
      "5\n",
      "5\n"
     ]
    }
   ],
   "source": [
    "#global\n",
    "globalvar=10\n",
    "def read():\n",
    "    print(globalvar)\n",
    "def write1():\n",
    "    global globalvar\n",
    "    globalvar=5\n",
    "def write2():\n",
    "    globalvar=10\n",
    "read()\n",
    "write1()\n",
    "read()\n",
    "write2()\n",
    "read()"
   ]
  },
  {
   "cell_type": "code",
   "execution_count": 20,
   "id": "4428d51f",
   "metadata": {},
   "outputs": [
    {
     "name": "stdout",
     "output_type": "stream",
     "text": [
      "True\n",
      "False\n"
     ]
    }
   ],
   "source": [
    "#in\n",
    "a=[1,2,3,4]\n",
    "print(4 in a)\n",
    "print(44 in a)"
   ]
  },
  {
   "cell_type": "code",
   "execution_count": 22,
   "id": "0a79317a",
   "metadata": {},
   "outputs": [
    {
     "name": "stdout",
     "output_type": "stream",
     "text": [
      "False\n"
     ]
    }
   ],
   "source": [
    "#is\n",
    "print(True is False)"
   ]
  },
  {
   "cell_type": "code",
   "execution_count": 23,
   "id": "c3671462",
   "metadata": {},
   "outputs": [
    {
     "name": "stdout",
     "output_type": "stream",
     "text": [
      "1 2\n",
      "2 4\n",
      "3 6\n",
      "4 8\n",
      "5 10\n"
     ]
    }
   ],
   "source": [
    "#lambda\n",
    "a= lambda x:x*2\n",
    "for i in range(1,6):\n",
    "    print(i,a(i))    "
   ]
  },
  {
   "cell_type": "code",
   "execution_count": null,
   "id": "3d2c5c5d",
   "metadata": {},
   "outputs": [],
   "source": []
  }
 ],
 "metadata": {
  "kernelspec": {
   "display_name": "Python 3",
   "language": "python",
   "name": "python3"
  },
  "language_info": {
   "codemirror_mode": {
    "name": "ipython",
    "version": 3
   },
   "file_extension": ".py",
   "mimetype": "text/x-python",
   "name": "python",
   "nbconvert_exporter": "python",
   "pygments_lexer": "ipython3",
   "version": "3.8.8"
  }
 },
 "nbformat": 4,
 "nbformat_minor": 5
}
