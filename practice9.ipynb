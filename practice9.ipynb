{
 "cells": [
  {
   "cell_type": "code",
   "execution_count": 7,
   "id": "1de4bdad",
   "metadata": {},
   "outputs": [
    {
     "name": "stdout",
     "output_type": "stream",
     "text": [
      "Enter the number of row:2\n",
      "Enter the number of column:2\n",
      "Enter the elements in the matrix:\n",
      "1\n",
      "2\n",
      "3\n",
      "4\n",
      "First Matrix is :\n",
      "[1, 2]\n",
      "[3, 4]\n",
      "Transpose matrix:\n",
      "[1, 3]\n",
      "[2, 4]\n"
     ]
    }
   ],
   "source": [
    "#Python Program to Transpose a Matrix using Nested List Comprehension\n",
    "row=int(input(\"Enter the number of row:\"))\n",
    "column=int(input(\"Enter the number of column:\"))\n",
    "print(\"Enter the elements in the matrix:\")\n",
    "a=[[int (input())for i in range(column)]for i in range(row)]\n",
    "print(\"First Matrix is :\")\n",
    "for n in a:\n",
    "    print(n)\n",
    "result=[[a[j][i] for j in range(len(a))]for i in range(len(a[0]))]\n",
    "print(\"Transpose matrix:\")\n",
    "for r in result:\n",
    "    print(r)"
   ]
  },
  {
   "cell_type": "code",
   "execution_count": 4,
   "id": "2344da01",
   "metadata": {},
   "outputs": [
    {
     "name": "stdout",
     "output_type": "stream",
     "text": [
      "Enter the number of rows:2\n",
      "Enter the number of columns:2\n",
      "Enter the elements in the first matrix:\n",
      "1\n",
      "2\n",
      "3\n",
      "4\n",
      "First Matrix:\n",
      "[1, 2]\n",
      "[3, 4]\n",
      "Enter the elements in the second matrix:\n",
      "10\n",
      "20\n",
      "30\n",
      "40\n",
      "Second Matrix:\n",
      "[10, 20]\n",
      "[30, 40]\n",
      "RESULTANT MATRIX IS:\n",
      "[70, 100]\n",
      "[150, 220]\n"
     ]
    }
   ],
   "source": [
    "#Python Program to Multiply Two Matrices using Nested Loop\n",
    "rows=int(input(\"Enter the number of rows:\"))\n",
    "columns=int(input(\"Enter the number of columns:\"))\n",
    "print(\"Enter the elements in the first matrix:\")\n",
    "a=[[int(input())for i in range(columns)]for i in range(rows)]\n",
    "print(\"First Matrix:\")\n",
    "for n in a:\n",
    "    print(n)\n",
    "print(\"Enter the elements in the second matrix:\")\n",
    "b=[[int(input())for i in range(columns)]for i in range(rows)]\n",
    "print(\"Second Matrix:\")\n",
    "for n in b:\n",
    "    print(n)\n",
    "result=[[0 for i in range(columns)]for i in range(rows)]\n",
    "for i in range(len(a)):\n",
    "    for j in range(len(b[0])):\n",
    "        for k in range(len(b)):\n",
    "            result[i][j]+=a[i][k]*b[k][j]\n",
    "print(\"RESULTANT MATRIX IS:\")\n",
    "for r in result:\n",
    "    print(r)"
   ]
  },
  {
   "cell_type": "code",
   "execution_count": 7,
   "id": "0ed330c2",
   "metadata": {},
   "outputs": [
    {
     "name": "stdout",
     "output_type": "stream",
     "text": [
      "Enter the number of rows:2\n",
      "Enter the number of columns:2\n",
      "Enter the elements in the first matrix:\n",
      "1\n",
      "2\n",
      "3\n",
      "4\n",
      "First Matrix:\n",
      "[1, 2]\n",
      "[3, 4]\n",
      "Enter the elements in the second matrix:\n",
      "10\n",
      "20\n",
      "30\n",
      "40\n",
      "Second Matrix:\n",
      "[10, 20]\n",
      "[30, 40]\n",
      "PRODUCT MATRIX :\n",
      "[70, 100]\n",
      "[150, 220]\n"
     ]
    }
   ],
   "source": [
    "#Python Program to Multiply Two Matrices using Nested List Comprehension\n",
    "rows=int(input(\"Enter the number of rows:\"))\n",
    "columns=int(input(\"Enter the number of columns:\"))\n",
    "print(\"Enter the elements in the first matrix:\")\n",
    "a=[[int(input())for i in range(columns)]for i in range(rows)]\n",
    "print(\"First Matrix:\")\n",
    "for n in a:\n",
    "    print(n)\n",
    "print(\"Enter the elements in the second matrix:\")\n",
    "b=[[int(input())for i in range(columns)]for i in range(rows)]\n",
    "print(\"Second Matrix:\")\n",
    "for n in b:\n",
    "    print(n)\n",
    "result = [[sum(x*y for x,y in zip(a_row,b_col)) for b_col in zip(*b)] for a_row in a]\n",
    "print(\"PRODUCT MATRIX :\")\n",
    "for r in result:\n",
    "    print(r)"
   ]
  },
  {
   "cell_type": "code",
   "execution_count": 8,
   "id": "e54702ac",
   "metadata": {},
   "outputs": [
    {
     "name": "stdout",
     "output_type": "stream",
     "text": [
      "malayalam\n",
      "YES\n"
     ]
    }
   ],
   "source": [
    "#Python Program to Check Whether a String is Palindrome or Not\n",
    "def ispalindrome(s):\n",
    "    return s==s[::-1]\n",
    "s=input()\n",
    "ans=ispalindrome(s)\n",
    "\n",
    "if ans:\n",
    "    print(\"YES\")\n",
    "else:\n",
    "    print(\"NO\")"
   ]
  },
  {
   "cell_type": "code",
   "execution_count": null,
   "id": "9f3aa2d8",
   "metadata": {},
   "outputs": [],
   "source": []
  }
 ],
 "metadata": {
  "kernelspec": {
   "display_name": "Python 3",
   "language": "python",
   "name": "python3"
  },
  "language_info": {
   "codemirror_mode": {
    "name": "ipython",
    "version": 3
   },
   "file_extension": ".py",
   "mimetype": "text/x-python",
   "name": "python",
   "nbconvert_exporter": "python",
   "pygments_lexer": "ipython3",
   "version": "3.8.8"
  }
 },
 "nbformat": 4,
 "nbformat_minor": 5
}
