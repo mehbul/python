{
 "cells": [
  {
   "cell_type": "code",
   "execution_count": 2,
   "id": "7e61ac75",
   "metadata": {},
   "outputs": [
    {
     "name": "stdout",
     "output_type": "stream",
     "text": [
      "Input String is:\n",
      "Python.:F}or{Beg~inn;ers\n",
      "Output String is:\n",
      "PythonForBeginners\n"
     ]
    }
   ],
   "source": [
    "#Python Program to Remove Punctuations From a String\n",
    "punctuation= '''!()-[]{};:'\"\\, <>./?@#$%^&*_~'''\n",
    "myString= \"Python.:F}or{Beg~inn;ers\"\n",
    "print(\"Input String is:\")\n",
    "print(myString)\n",
    "translationTable=str.maketrans(\"\",\"\",punctuation)\n",
    "newString=myString.translate(translationTable)\n",
    "print(\"Output String is:\")\n",
    "print(newString)"
   ]
  },
  {
   "cell_type": "code",
   "execution_count": 11,
   "id": "2927f72a",
   "metadata": {},
   "outputs": [
    {
     "name": "stdout",
     "output_type": "stream",
     "text": [
      "Enter a string:Hello this Is an Example With cased letters\n",
      "The sorted words are:\n",
      "an\n",
      "cased\n",
      "example\n",
      "hello\n",
      "is\n",
      "letters\n",
      "this\n",
      "with\n"
     ]
    }
   ],
   "source": [
    "#Python Program to Sort Words in Alphabetic Order\n",
    "mystr=input(\"Enter a string:\")\n",
    "words=[word.lower() for word in mystr.split()]\n",
    "words.sort()\n",
    "print(\"The sorted words are:\")\n",
    "for word in words:\n",
    "    print(word)"
   ]
  },
  {
   "cell_type": "code",
   "execution_count": 13,
   "id": "ed7c4a69",
   "metadata": {},
   "outputs": [
    {
     "name": "stdout",
     "output_type": "stream",
     "text": [
      "Union of E and N is {0, 32, 2, 1, 3, 4, 6, 5, 8, 88}\n",
      "Intersection of E and N is set()\n",
      "Difference of E and N is {0, 2, 6, 8, 88}\n",
      "Symmetric difference of E and N is {0, 1, 2, 3, 4, 5, 6, 8, 88, 32}\n"
     ]
    }
   ],
   "source": [
    "#Python Program to Illustrate Different Set Operations\n",
    "E = {0, 2, 88, 6, 8}\n",
    "N = {1, 32, 3, 4, 5}\n",
    "print(\"Union of E and N is\",E | N)\n",
    "print(\"Intersection of E and N is\",E & N)\n",
    "print(\"Difference of E and N is\",E - N)\n",
    "print(\"Symmetric difference of E and N is\",E ^ N)"
   ]
  },
  {
   "cell_type": "code",
   "execution_count": 16,
   "id": "71f37e5d",
   "metadata": {},
   "outputs": [
    {
     "name": "stdout",
     "output_type": "stream",
     "text": [
      "Enter a string:WWELCOME TO DIVINE AI\n",
      "There are  1 a in wwelcome to divine ai\n",
      "There are  3 e in wwelcome to divine ai\n",
      "There are  3 i in wwelcome to divine ai\n",
      "There are  2 o in wwelcome to divine ai\n",
      "There are  0 u in wwelcome to divine ai\n"
     ]
    }
   ],
   "source": [
    "#Python Program to Count the Number of Each Vowel\n",
    "string=input(\"Enter a string:\").lower()\n",
    "vowel=\"aeiou\"\n",
    "count={}\n",
    "for i in vowel:\n",
    "    count[i]=string.count(i)\n",
    "for j in count:\n",
    "    print(\"There are \",count[j],j,\"in\",string)"
   ]
  },
  {
   "cell_type": "code",
   "execution_count": null,
   "id": "14a8692e",
   "metadata": {},
   "outputs": [],
   "source": []
  }
 ],
 "metadata": {
  "kernelspec": {
   "display_name": "Python 3",
   "language": "python",
   "name": "python3"
  },
  "language_info": {
   "codemirror_mode": {
    "name": "ipython",
    "version": 3
   },
   "file_extension": ".py",
   "mimetype": "text/x-python",
   "name": "python",
   "nbconvert_exporter": "python",
   "pygments_lexer": "ipython3",
   "version": "3.8.8"
  }
 },
 "nbformat": 4,
 "nbformat_minor": 5
}
