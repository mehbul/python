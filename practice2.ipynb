{
 "cells": [
  {
   "cell_type": "code",
   "execution_count": 4,
   "id": "42f90ae2",
   "metadata": {},
   "outputs": [
    {
     "name": "stdout",
     "output_type": "stream",
     "text": [
      "Enter year:1999\n",
      "1999 is not a leap year\n"
     ]
    }
   ],
   "source": [
    "#Python Program to Check Leap Year\n",
    "n=int(input('Enter year:'))\n",
    "year=int(n)\n",
    "if((year%4==0)or(year%400==0)and(year%100!=0)):\n",
    "    print(\"{0} is a leap year\".format(year))\n",
    "else:\n",
    "    print(\"{0} is not a leap year\".format(year))"
   ]
  },
  {
   "cell_type": "code",
   "execution_count": 8,
   "id": "c6da053d",
   "metadata": {},
   "outputs": [
    {
     "name": "stdout",
     "output_type": "stream",
     "text": [
      "Enter a number:1\n",
      "Enter a number:3\n",
      "Enter a number:2\n",
      "3 is largest\n"
     ]
    }
   ],
   "source": [
    "#Python Program to Find the Largest Among Three Numbers\n",
    "a=int(input('Enter a number:'))\n",
    "b=int(input('Enter a number:'))\n",
    "c=int(input('Enter a number:'))\n",
    "if((a>b)and(a>c)):\n",
    "    print(\"{0} is largest\".format(a))\n",
    "elif((b>a)and(b>c)):\n",
    "    print(\"{0} is largest\".format(b))\n",
    "else:\n",
    "    print(\"{0} is largest\".format(c))"
   ]
  },
  {
   "cell_type": "code",
   "execution_count": 17,
   "id": "133b0989",
   "metadata": {},
   "outputs": [
    {
     "name": "stdout",
     "output_type": "stream",
     "text": [
      "Enter a number to check it is prime or not:7\n",
      "7 is a prime number\n"
     ]
    }
   ],
   "source": [
    "#Write a Python Program to check if a number is prime or not\n",
    "num=int(input('Enter a number to check it is prime or not:'))\n",
    "if(num>1):\n",
    "    for i in range(2,num//2):\n",
    "        if(num%i)==0:\n",
    "            print(num,'is not a prime number')\n",
    "            break\n",
    "    else:\n",
    "            print(num,'is a prime number')\n",
    "else:\n",
    "    print(num,'is not a prime number')"
   ]
  },
  {
   "cell_type": "code",
   "execution_count": 20,
   "id": "7c29ab83",
   "metadata": {},
   "outputs": [
    {
     "name": "stdout",
     "output_type": "stream",
     "text": [
      "enter lowerbound:100\n",
      "enter upperbound:200\n",
      "prime numbers between 100 and 200 are:\n",
      "101\n",
      "103\n",
      "107\n",
      "109\n",
      "113\n",
      "127\n",
      "131\n",
      "137\n",
      "139\n",
      "149\n",
      "151\n",
      "157\n",
      "163\n",
      "167\n",
      "173\n",
      "179\n",
      "181\n",
      "191\n",
      "193\n",
      "197\n",
      "199\n"
     ]
    }
   ],
   "source": [
    "#Python program to display all the prime numbers within an interval\n",
    "lower=int(input('enter lowerbound:'))\n",
    "upper=int(input('enter upperbound:'))\n",
    "print(\"prime numbers between {0} and {1} are:\".format(lower,upper))\n",
    "for num in range(lower,upper+1):\n",
    "    if num>1:\n",
    "        for i in range(2,num):\n",
    "            if(num%i)==0:\n",
    "                break\n",
    "        else:\n",
    "            print(num)"
   ]
  },
  {
   "cell_type": "code",
   "execution_count": null,
   "id": "8a6c1ce6",
   "metadata": {},
   "outputs": [],
   "source": []
  }
 ],
 "metadata": {
  "kernelspec": {
   "display_name": "Python 3",
   "language": "python",
   "name": "python3"
  },
  "language_info": {
   "codemirror_mode": {
    "name": "ipython",
    "version": 3
   },
   "file_extension": ".py",
   "mimetype": "text/x-python",
   "name": "python",
   "nbconvert_exporter": "python",
   "pygments_lexer": "ipython3",
   "version": "3.8.8"
  }
 },
 "nbformat": 4,
 "nbformat_minor": 5
}
