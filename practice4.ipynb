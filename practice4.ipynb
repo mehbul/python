{
 "cells": [
  {
   "cell_type": "code",
   "execution_count": 11,
   "id": "d1bff292",
   "metadata": {},
   "outputs": [
    {
     "name": "stdout",
     "output_type": "stream",
     "text": [
      "Enter number to calculate sum:5\n",
      "sum is : 15\n"
     ]
    }
   ],
   "source": [
    "#Python Program to Find the Sum of Natural Numbers\n",
    "n=input(\"Enter number to calculate sum:\")\n",
    "n=int(n)\n",
    "sum=0\n",
    "for i in range(1,n+1):\n",
    "    sum+=i\n",
    "print('sum is :',sum)"
   ]
  },
  {
   "cell_type": "code",
   "execution_count": 13,
   "id": "80a2fa27",
   "metadata": {},
   "outputs": [
    {
     "name": "stdout",
     "output_type": "stream",
     "text": [
      "enter number of terms:10\n",
      "1\n",
      "2\n",
      "4\n",
      "8\n",
      "16\n",
      "32\n",
      "64\n",
      "128\n",
      "256\n",
      "512\n"
     ]
    }
   ],
   "source": [
    "#Python Program To Display Powers of 2 Using Anonymous Function.\n",
    "terms=int(input(\"enter number of terms:\"))\n",
    "result=list(map(lambda x:2**x,range(terms)))\n",
    "for i in range(terms):\n",
    "    print(result[i])"
   ]
  },
  {
   "cell_type": "code",
   "execution_count": 17,
   "id": "56bd0bde",
   "metadata": {},
   "outputs": [
    {
     "name": "stdout",
     "output_type": "stream",
     "text": [
      "Enter number seprated by space:12 23 40 27\n",
      "Enter the divisible number:3\n",
      "the number divisible by  3 are  [12, 27]\n"
     ]
    }
   ],
   "source": [
    "#Python Program to Find Numbers Divisible by Another Number\n",
    "num_list=list(map(int,input(\"Enter number seprated by space:\").split()))\n",
    "n=int(input(\"Enter the divisible number:\"))\n",
    "result=list(filter(lambda x:x%n==0,num_list))\n",
    "print(\"the number divisible by \",n,\"are \",result)"
   ]
  },
  {
   "cell_type": "code",
   "execution_count": 21,
   "id": "00c3e948",
   "metadata": {},
   "outputs": [
    {
     "name": "stdout",
     "output_type": "stream",
     "text": [
      "Enter a number:10\n",
      "1 0 1 0 "
     ]
    }
   ],
   "source": [
    "#Python Program to Convert Decimal to Binary\n",
    "def dectobin(decimal):\n",
    "    if(decimal>0):\n",
    "        dectobin((int)(decimal/2))\n",
    "        print(decimal%2,end=\" \")\n",
    "decimal=int(input(\"Enter a number:\"))\n",
    "dectobin(decimal)"
   ]
  },
  {
   "cell_type": "code",
   "execution_count": null,
   "id": "32c526ba",
   "metadata": {},
   "outputs": [],
   "source": []
  }
 ],
 "metadata": {
  "kernelspec": {
   "display_name": "Python 3",
   "language": "python",
   "name": "python3"
  },
  "language_info": {
   "codemirror_mode": {
    "name": "ipython",
    "version": 3
   },
   "file_extension": ".py",
   "mimetype": "text/x-python",
   "name": "python",
   "nbconvert_exporter": "python",
   "pygments_lexer": "ipython3",
   "version": "3.8.8"
  }
 },
 "nbformat": 4,
 "nbformat_minor": 5
}
