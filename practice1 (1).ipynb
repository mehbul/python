{
 "cells": [
  {
   "cell_type": "code",
   "execution_count": 1,
   "id": "3a26ee80",
   "metadata": {},
   "outputs": [
    {
     "name": "stdout",
     "output_type": "stream",
     "text": [
      "Enter the speed in kilometer as a unit:\n",
      "70\n",
      "The speed value in miles is:\n",
      " 43.49597\n"
     ]
    }
   ],
   "source": [
    "#Python Program to Convert Kilometers to Miles\n",
    "kilometer=float(input('Enter the speed in kilometer as a unit:\\n'))\n",
    "conversion=0.621371\n",
    "miles=kilometer*conversion\n",
    "print('The speed value in miles is:\\n',miles)"
   ]
  },
  {
   "cell_type": "code",
   "execution_count": 2,
   "id": "570d0816",
   "metadata": {},
   "outputs": [
    {
     "name": "stdout",
     "output_type": "stream",
     "text": [
      "Enter temperature in celsius:37\n",
      "Temperature in fahrenheit is: 98.6\n"
     ]
    }
   ],
   "source": [
    "#Python Program to Convert Celsius To Fahrenheit\n",
    "c=float(input('Enter temperature in celsius:'))\n",
    "f=(c*9)/5+32\n",
    "print('Temperature in fahrenheit is:',f)"
   ]
  },
  {
   "cell_type": "code",
   "execution_count": 6,
   "id": "46b3679f",
   "metadata": {},
   "outputs": [
    {
     "name": "stdout",
     "output_type": "stream",
     "text": [
      "enter a number:0\n",
      "number is: 0\n"
     ]
    }
   ],
   "source": [
    "#Python Program to Check if a Number is Positive, Negative or 0\n",
    "n=int(input('enter a number:'))\n",
    "if(n==0):\n",
    "    print('number is:',n)\n",
    "elif(n<0):\n",
    "    print('number is negative:',n)\n",
    "else:\n",
    "    print('number is positive:',n)"
   ]
  },
  {
   "cell_type": "code",
   "execution_count": 9,
   "id": "70a1e5fd",
   "metadata": {},
   "outputs": [
    {
     "name": "stdout",
     "output_type": "stream",
     "text": [
      "enter a number to check even or odd:13\n",
      "odd: 13\n"
     ]
    }
   ],
   "source": [
    "#Python Program to Check if a Number is Odd or Even\n",
    "n=int(input('enter a number to check even or odd:'))\n",
    "if(n%2==0):\n",
    "    print('even:',n)\n",
    "else:\n",
    "    print('odd:',n)"
   ]
  },
  {
   "cell_type": "code",
   "execution_count": null,
   "id": "7bfc9f19",
   "metadata": {},
   "outputs": [],
   "source": []
  }
 ],
 "metadata": {
  "kernelspec": {
   "display_name": "Python 3",
   "language": "python",
   "name": "python3"
  },
  "language_info": {
   "codemirror_mode": {
    "name": "ipython",
    "version": 3
   },
   "file_extension": ".py",
   "mimetype": "text/x-python",
   "name": "python",
   "nbconvert_exporter": "python",
   "pygments_lexer": "ipython3",
   "version": "3.8.8"
  }
 },
 "nbformat": 4,
 "nbformat_minor": 5
}
