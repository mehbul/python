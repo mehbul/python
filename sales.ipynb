{
 "cells": [
  {
   "cell_type": "code",
   "execution_count": 9,
   "id": "e8b04e87",
   "metadata": {},
   "outputs": [],
   "source": [
    "def write_sales_log(order):\n",
    "    file=open('sales.txt','w')\n",
    "    \n",
    "    total=0\n",
    "    for item,price in order.items():\n",
    "        file.write(item+''+format(price,'.2f')+'\\n')\n",
    "        total+=price\n",
    "    \n",
    "    file.write('total='+format(total,'.2f')+'\\n')\n",
    "    file.close()\n",
    "order={'cheeky spam':1.0,'yonks spam':4.0}\n",
    "write_sales_log(order)\n",
    "order={'cheeky spam':1.0,'yonks spam':3.0}\n",
    "write_sales_log(order)"
   ]
  }
 ],
 "metadata": {
  "kernelspec": {
   "display_name": "Python 3",
   "language": "python",
   "name": "python3"
  },
  "language_info": {
   "codemirror_mode": {
    "name": "ipython",
    "version": 3
   },
   "file_extension": ".py",
   "mimetype": "text/x-python",
   "name": "python",
   "nbconvert_exporter": "python",
   "pygments_lexer": "ipython3",
   "version": "3.8.8"
  }
 },
 "nbformat": 4,
 "nbformat_minor": 5
}
