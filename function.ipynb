{
 "cells": [
  {
   "cell_type": "code",
   "execution_count": 1,
   "metadata": {},
   "outputs": [
    {
     "name": "stdout",
     "output_type": "stream",
     "text": [
      "3.0\n",
      "6\n"
     ]
    }
   ],
   "source": [
    "x = abs(-3.0)\n",
    "print(x)\n",
    "\n",
    "l = len(\"ABCDEF\")\n",
    "print(l)"
   ]
  },
  {
   "cell_type": "code",
   "execution_count": 2,
   "metadata": {},
   "outputs": [
    {
     "name": "stdout",
     "output_type": "stream",
     "text": [
      "Hello world!\n"
     ]
    }
   ],
   "source": [
    "def sayHello():\n",
    "    print('Hello world!')\n",
    "    \n",
    "sayHello()"
   ]
  },
  {
   "cell_type": "code",
   "execution_count": 3,
   "metadata": {},
   "outputs": [
    {
     "name": "stdout",
     "output_type": "stream",
     "text": [
      "Hello world!\n"
     ]
    }
   ],
   "source": [
    "sayHello() # Call the function to print 'Hello world'"
   ]
  },
  {
   "cell_type": "code",
   "execution_count": 7,
   "metadata": {},
   "outputs": [],
   "source": [
    "def sayHello(name):\n",
    "    print('Hello', name)\n",
    "# name=\"Mehbul\"\n",
    "# sayHello(name)"
   ]
  },
  {
   "cell_type": "code",
   "execution_count": 8,
   "metadata": {},
   "outputs": [
    {
     "name": "stdout",
     "output_type": "stream",
     "text": [
      "Hello User\n"
     ]
    }
   ],
   "source": [
    "sayHello('User')  # Prints 'Hello User'"
   ]
  },
  {
   "cell_type": "code",
   "execution_count": 10,
   "metadata": {},
   "outputs": [
    {
     "name": "stdout",
     "output_type": "stream",
     "text": [
      "Hello Mehbul\n"
     ]
    }
   ],
   "source": [
    "text = 'Mehbul'\n",
    "sayHello(text)     # Prints 'Hello Mary'"
   ]
  },
  {
   "cell_type": "code",
   "execution_count": 11,
   "metadata": {},
   "outputs": [],
   "source": [
    "def square(x):\n",
    "  y = x*x\n",
    "  return y"
   ]
  },
  {
   "cell_type": "code",
   "execution_count": 12,
   "metadata": {},
   "outputs": [
    {
     "name": "stdout",
     "output_type": "stream",
     "text": [
      "49\n"
     ]
    }
   ],
   "source": [
    "number = 7\n",
    "result = square(number) # Call the square() function which returns a result\n",
    "print(result)           # Prints: 49"
   ]
  },
  {
   "cell_type": "code",
   "execution_count": 13,
   "metadata": {},
   "outputs": [
    {
     "name": "stdout",
     "output_type": "stream",
     "text": [
      "1.4399999999999998e-06\n"
     ]
    }
   ],
   "source": [
    "print(square(1.2e-3))   # Prints: 1.4399999999999998e-06"
   ]
  },
  {
   "cell_type": "code",
   "execution_count": 14,
   "metadata": {},
   "outputs": [
    {
     "name": "stdout",
     "output_type": "stream",
     "text": [
      "5.999396\n"
     ]
    }
   ],
   "source": [
    "def calcFunc(x, y):\n",
    "  z = x*x + y*y\n",
    "  return z\n",
    "\n",
    "\n",
    "result = calcFunc(1.414, 2.0)\n",
    "print(result)  #  5.999396"
   ]
  },
  {
   "cell_type": "code",
   "execution_count": 15,
   "metadata": {},
   "outputs": [],
   "source": [
    "def calcDistance(vec1, vec2):    \n",
    "    dist = 0\n",
    "    for i in range(len(vec1)):\n",
    "        delta = vec1[i] - vec2[i]\n",
    "        dist += delta*delta\n",
    "    dist = dist**(1/2) # square-root\n",
    "    return dist"
   ]
  },
  {
   "cell_type": "code",
   "execution_count": 16,
   "metadata": {},
   "outputs": [
    {
     "data": {
      "text/plain": [
       "19.914567532336726"
      ]
     },
     "execution_count": 16,
     "metadata": {},
     "output_type": "execute_result"
    }
   ],
   "source": [
    "w1 = ( 23.1, 17.8, -5.6 )\n",
    "w2 = ( 8.4, 15.9, 7.7 )\n",
    "calcDistance( w1, w2 )"
   ]
  },
  {
   "cell_type": "code",
   "execution_count": 17,
   "metadata": {},
   "outputs": [
    {
     "data": {
      "text/plain": [
       "2.8284271247461903"
      ]
     },
     "execution_count": 17,
     "metadata": {},
     "output_type": "execute_result"
    }
   ],
   "source": [
    "calcDistance( ( 1, 2 ), ( 3, 4 ) ) # dimension: 2"
   ]
  },
  {
   "cell_type": "code",
   "execution_count": 18,
   "metadata": {},
   "outputs": [
    {
     "data": {
      "text/plain": [
       "2.8284271247461903"
      ]
     },
     "execution_count": 18,
     "metadata": {},
     "output_type": "execute_result"
    }
   ],
   "source": [
    "calcDistance( [ 1, 2 ], [ 3, 4 ] ) # vectors represented as lists"
   ]
  },
  {
   "cell_type": "code",
   "execution_count": 19,
   "metadata": {},
   "outputs": [
    {
     "data": {
      "text/plain": [
       "2.8284271247461903"
      ]
     },
     "execution_count": 19,
     "metadata": {},
     "output_type": "execute_result"
    }
   ],
   "source": [
    "calcDistance( ( 1, 2 ), [ 3, 4 ] ) # mixed representation"
   ]
  },
  {
   "cell_type": "code",
   "execution_count": 20,
   "metadata": {},
   "outputs": [
    {
     "name": "stdout",
     "output_type": "stream",
     "text": [
      "getSign( 33.6 ): Positive\n",
      "getSign( -7 ): Negative\n",
      "getSign( 0 ): None\n"
     ]
    }
   ],
   "source": [
    "def getSign(value):\n",
    "    \n",
    "    if value > 0:\n",
    "        return \"Positive\"\n",
    "    \n",
    "    elif value < 0:\n",
    "        return \"Negative\"\n",
    "    \n",
    "    return # implicit 'None'\n",
    "\n",
    "    print(\"Hello world\") # execution does not reach this line\n",
    "    \n",
    "print(\"getSign( 33.6 ):\", getSign( 33.6 ))\n",
    "print(\"getSign( -7 ):\", getSign( -7 ))\n",
    "print(\"getSign( 0 ):\", getSign( 0 ))"
   ]
  },
  {
   "cell_type": "code",
   "execution_count": 21,
   "metadata": {},
   "outputs": [
    {
     "name": "stdout",
     "output_type": "stream",
     "text": [
      "Results as a tuple: (10, -4, 21)\n",
      "x: 10\n",
      "y: -4\n",
      "z: 21\n"
     ]
    }
   ],
   "source": [
    "def myFunction(value1, value2):\n",
    "    \n",
    "    total = value1 + value2\n",
    "    difference = value1 - value2\n",
    "    product = value1 * value2\n",
    "    \n",
    "    return total, difference, product\n",
    "\n",
    "values = myFunction( 3, 7 )  # Grab output as a whole tuple\n",
    "print(\"Results as a tuple:\", values)\n",
    "\n",
    "x, y, z = myFunction( 3, 7 ) # Unpack tuple to grab individual values\n",
    "print(\"x:\", x)\n",
    "print(\"y:\", y)\n",
    "print(\"z:\", z)"
   ]
  },
  {
   "cell_type": "code",
   "execution_count": 22,
   "metadata": {},
   "outputs": [],
   "source": [
    "def square(number):\n",
    "    # one mandatory argument\n",
    "    y = number*number\n",
    "    return y"
   ]
  },
  {
   "cell_type": "code",
   "execution_count": 23,
   "metadata": {},
   "outputs": [
    {
     "data": {
      "text/plain": [
       "4"
      ]
     },
     "execution_count": 23,
     "metadata": {},
     "output_type": "execute_result"
    }
   ],
   "source": [
    "square(2)"
   ]
  },
  {
   "cell_type": "code",
   "execution_count": 24,
   "metadata": {},
   "outputs": [
    {
     "data": {
      "text/plain": [
       "9"
      ]
     },
     "execution_count": 24,
     "metadata": {},
     "output_type": "execute_result"
    }
   ],
   "source": [
    "square(number=3)"
   ]
  },
  {
   "cell_type": "code",
   "execution_count": 25,
   "metadata": {},
   "outputs": [
    {
     "name": "stdout",
     "output_type": "stream",
     "text": [
      "abcabcabc\n",
      "XYZXYZXYZXYZ\n"
     ]
    }
   ],
   "source": [
    "def repeat(seq, n):\n",
    "    # two mandatory arguments\n",
    "    result = ''\n",
    "    for i in range(0,n):\n",
    "        result += seq\n",
    "    return result\n",
    "\n",
    "print(repeat(\"abc\", 3))\n",
    "print(repeat(n=4, seq=\"XYZ\"))"
   ]
  },
  {
   "cell_type": "code",
   "execution_count": 26,
   "metadata": {},
   "outputs": [
    {
     "name": "stdout",
     "output_type": "stream",
     "text": [
      "LMNLMNLMN\n"
     ]
    }
   ],
   "source": [
    "print(repeat(seq=\"LMN\", n=3))"
   ]
  },
  {
   "cell_type": "code",
   "execution_count": 27,
   "metadata": {},
   "outputs": [
    {
     "name": "stdout",
     "output_type": "stream",
     "text": [
      "Running simulation for 500 steps\n",
      "Running simulation for 1000 steps\n"
     ]
    }
   ],
   "source": [
    "def runSimulation(nsteps=1000):\n",
    "    print(\"Running simulation for\", nsteps, \"steps\")\n",
    "\n",
    "runSimulation(500)\n",
    "runSimulation()"
   ]
  },
  {
   "cell_type": "code",
   "execution_count": 28,
   "metadata": {},
   "outputs": [
    {
     "name": "stdout",
     "output_type": "stream",
     "text": [
      "[100]\n",
      "[100, 100]\n",
      "[100, 100, 100]\n",
      "[100]\n",
      "[100]\n",
      "[100]\n"
     ]
    }
   ],
   "source": [
    "def myFunction(parameters=[]):\n",
    "    parameters.append( 100 )\n",
    "    print(parameters)\n",
    "    \n",
    "myFunction()\n",
    "myFunction()\n",
    "myFunction()\n",
    "myFunction([])\n",
    "myFunction([])\n",
    "myFunction([])"
   ]
  },
  {
   "cell_type": "code",
   "execution_count": 29,
   "metadata": {},
   "outputs": [
    {
     "name": "stdout",
     "output_type": "stream",
     "text": [
      "[100]\n",
      "[100, 100]\n",
      "[100, 100, 100]\n",
      "[100]\n"
     ]
    }
   ],
   "source": [
    "def myFunction(parameters):\n",
    "    # one mandatory argument without default value\n",
    "    parameters.append( 100 )\n",
    "    print(parameters)\n",
    "    \n",
    "my_list = []\n",
    "myFunction(my_list)\n",
    "myFunction(my_list)\n",
    "myFunction(my_list)\n",
    "my_new_list = []\n",
    "myFunction(my_new_list)"
   ]
  },
  {
   "cell_type": "code",
   "execution_count": 30,
   "metadata": {},
   "outputs": [
    {
     "name": "stdout",
     "output_type": "stream",
     "text": [
      "Running simulation starting at 300 K and doing 500 steps\n",
      "Running simulation starting at 300 K and doing 1000 steps\n"
     ]
    }
   ],
   "source": [
    "def runSimulation(initialTemperature, nsteps=1000):\n",
    "    # one mandatory argument followed by one with default value\n",
    "    print(\"Running simulation starting at\", initialTemperature, \"K and doing\", nsteps, \"steps\")\n",
    "    \n",
    "runSimulation(300, 500)\n",
    "runSimulation(300)"
   ]
  },
  {
   "cell_type": "code",
   "execution_count": 31,
   "metadata": {},
   "outputs": [
    {
     "name": "stdout",
     "output_type": "stream",
     "text": [
      "Running simulation starting at 300 K and doing 100 steps\n"
     ]
    }
   ],
   "source": [
    "runSimulation( nsteps=100, initialTemperature=300 )"
   ]
  },
  {
   "cell_type": "code",
   "execution_count": 32,
   "metadata": {},
   "outputs": [
    {
     "name": "stdout",
     "output_type": "stream",
     "text": [
      "Running simulation starting at 300 K and doing 1000 steps\n"
     ]
    }
   ],
   "source": [
    "runSimulation( initialTemperature=300 )"
   ]
  },
  {
   "cell_type": "code",
   "execution_count": 35,
   "metadata": {},
   "outputs": [
    {
     "name": "stdout",
     "output_type": "stream",
     "text": [
      "Running simulation starting at 350 K and doing 100 steps\n"
     ]
    }
   ],
   "source": [
    "runSimulation( initialTemperature=350,nsteps=100 ) # Error: missing required argument 'initialTemperature'"
   ]
  },
  {
   "cell_type": "code",
   "execution_count": 39,
   "metadata": {},
   "outputs": [
    {
     "name": "stdout",
     "output_type": "stream",
     "text": [
      "Running simulation starting at 350 K and doing 1300 steps\n"
     ]
    }
   ],
   "source": [
    "runSimulation( initialTemperature=350,nsteps=1300 ) # Error: positional argument follows keyword argument"
   ]
  },
  {
   "cell_type": "code",
   "execution_count": 43,
   "metadata": {},
   "outputs": [
    {
     "name": "stdout",
     "output_type": "stream",
     "text": [
      "Running simulation starting at 300 K and doing 100 steps\n"
     ]
    }
   ],
   "source": [
    "runSimulation( initialTemperature=300, nsteps=100 ) # Error: unexpected keyword argument 'numSteps'"
   ]
  },
  {
   "cell_type": "code",
   "execution_count": 45,
   "metadata": {},
   "outputs": [],
   "source": [
    "def badFunction( initialTemperature=100,nsteps=1000):\n",
    "    pass"
   ]
  },
  {
   "cell_type": "code",
   "execution_count": 46,
   "metadata": {},
   "outputs": [],
   "source": [
    "def mathFunction(x, y):\n",
    "    math_func_result = ( x + y ) * ( x - y )\n",
    "    return math_func_result"
   ]
  },
  {
   "cell_type": "code",
   "execution_count": 47,
   "metadata": {},
   "outputs": [
    {
     "name": "stdout",
     "output_type": "stream",
     "text": [
      "-33\n"
     ]
    }
   ],
   "source": [
    "answer = mathFunction( 4, 7 )\n",
    "print(answer)"
   ]
  },
  {
   "cell_type": "code",
   "execution_count": 50,
   "metadata": {},
   "outputs": [
    {
     "name": "stdout",
     "output_type": "stream",
     "text": [
      "-33\n"
     ]
    }
   ],
   "source": [
    "answer = mathFunction( 4, 7 )\n",
    "print(answer)"
   ]
  },
  {
   "cell_type": "code",
   "execution_count": 71,
   "metadata": {},
   "outputs": [
    {
     "name": "stdout",
     "output_type": "stream",
     "text": [
      "1\n",
      "2\n"
     ]
    }
   ],
   "source": [
    "counter = 1\n",
    "def increment(): \n",
    "    global counter\n",
    "    print(counter)\n",
    "    counter += 1\n",
    "\n",
    "increment()\n",
    "print(counter)"
   ]
  },
  {
   "cell_type": "code",
   "execution_count": 59,
   "metadata": {},
   "outputs": [
    {
     "name": "stdout",
     "output_type": "stream",
     "text": [
      "1\n",
      "2\n"
     ]
    }
   ],
   "source": [
    "counter = 1\n",
    "def increment(): \n",
    "    global counter\n",
    "    print(counter)\n",
    "    counter += 1\n",
    "\n",
    "increment()\n",
    "print(counter)"
   ]
  },
  {
   "cell_type": "code",
   "execution_count": 72,
   "metadata": {},
   "outputs": [
    {
     "name": "stdout",
     "output_type": "stream",
     "text": [
      "1\n"
     ]
    }
   ],
   "source": [
    "def increment(counter): \n",
    "    return counter + 1\n",
    "\n",
    "counter = 0\n",
    "counter = increment( counter ) \n",
    "print(counter)"
   ]
  },
  {
   "cell_type": "code",
   "execution_count": null,
   "metadata": {},
   "outputs": [],
   "source": []
  }
 ],
 "metadata": {
  "kernelspec": {
   "display_name": "Python 3",
   "language": "python",
   "name": "python3"
  },
  "language_info": {
   "codemirror_mode": {
    "name": "ipython",
    "version": 3
   },
   "file_extension": ".py",
   "mimetype": "text/x-python",
   "name": "python",
   "nbconvert_exporter": "python",
   "pygments_lexer": "ipython3",
   "version": "3.8.8"
  }
 },
 "nbformat": 4,
 "nbformat_minor": 1
}
