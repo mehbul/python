{
 "cells": [
  {
   "cell_type": "code",
   "execution_count": 11,
   "id": "stylish-console",
   "metadata": {},
   "outputs": [
    {
     "data": {
      "text/plain": [
       "'MAPS6FOECI66LS'"
      ]
     },
     "execution_count": 11,
     "metadata": {},
     "output_type": "execute_result"
    }
   ],
   "source": [
    "aa='SL66ICEOF6SPAM'\n",
    "aa[::-1]"
   ]
  },
  {
   "cell_type": "code",
   "execution_count": 12,
   "id": "prepared-launch",
   "metadata": {},
   "outputs": [
    {
     "data": {
      "text/plain": [
       "14"
      ]
     },
     "execution_count": 12,
     "metadata": {},
     "output_type": "execute_result"
    }
   ],
   "source": [
    "len(aa)"
   ]
  },
  {
   "cell_type": "code",
   "execution_count": 17,
   "id": "linear-concentrate",
   "metadata": {},
   "outputs": [
    {
     "name": "stdout",
     "output_type": "stream",
     "text": [
      "39\n"
     ]
    }
   ],
   "source": [
    "x = 'hello'\n",
    "x = x + ' there ' + ' '\n",
    "print(len(x*3))"
   ]
  },
  {
   "cell_type": "code",
   "execution_count": 19,
   "id": "smart-enough",
   "metadata": {},
   "outputs": [
    {
     "name": "stdout",
     "output_type": "stream",
     "text": [
      "I am a stringAnd me too!And me too!\n",
      "though I am much longer\n",
      "than the others :)\n"
     ]
    }
   ],
   "source": [
    "s = 'I am a string'\n",
    "s = s + \"And me too!\" + 'And me too!\\nthough I am much longer\\nthan the others :)'\n",
    "print(s)"
   ]
  },
  {
   "cell_type": "code",
   "execution_count": null,
   "id": "urban-harrison",
   "metadata": {},
   "outputs": [],
   "source": []
  }
 ],
 "metadata": {
  "kernelspec": {
   "display_name": "Python 3",
   "language": "python",
   "name": "python3"
  },
  "language_info": {
   "codemirror_mode": {
    "name": "ipython",
    "version": 3
   },
   "file_extension": ".py",
   "mimetype": "text/x-python",
   "name": "python",
   "nbconvert_exporter": "python",
   "pygments_lexer": "ipython3",
   "version": "3.7.10"
  }
 },
 "nbformat": 4,
 "nbformat_minor": 5
}
