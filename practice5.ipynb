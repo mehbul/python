{
 "cells": [
  {
   "cell_type": "code",
   "execution_count": 2,
   "id": "7f3e5d72",
   "metadata": {},
   "outputs": [
    {
     "name": "stdout",
     "output_type": "stream",
     "text": [
      "Enter a number: 205\n",
      "Hexadecimal:  CD\n"
     ]
    }
   ],
   "source": [
    "#Python Program to Convert Decimal to Hexadecimal\n",
    "conversion_table = ['0', '1', '2', '3', '4', '5', '6', '7', '8', '9', 'A' , 'B', 'C', 'D', 'E', 'F']\n",
    "\n",
    "def decTohex(n):\n",
    "    if(n<=0):\n",
    "        return ''\n",
    "    remainder = n%16\n",
    "    return  decTohex(n//16)+conversion_table[remainder]\n",
    "        \n",
    "decimal = int(input(\"Enter a number: \"))\n",
    "print(\"Hexadecimal: \",decTohex(decimal))"
   ]
  },
  {
   "cell_type": "code",
   "execution_count": 3,
   "id": "df5e71fd",
   "metadata": {},
   "outputs": [
    {
     "name": "stdout",
     "output_type": "stream",
     "text": [
      "enter any character:A\n",
      "ASCII value is: 65\n"
     ]
    }
   ],
   "source": [
    "#Python Program to Find ASCII Value of Character\n",
    "ch=input(\"enter any character:\")\n",
    "print(\"ASCII value is:\",ord(ch))"
   ]
  },
  {
   "cell_type": "code",
   "execution_count": 8,
   "id": "39f21d6a",
   "metadata": {},
   "outputs": [
    {
     "name": "stdout",
     "output_type": "stream",
     "text": [
      "Enter first number:10\n",
      "Enter second number:20\n",
      "GCD of 10 and 20 is: 10\n"
     ]
    }
   ],
   "source": [
    "#Python Program to Find HCF or GCD\n",
    "def GCD(a,b):\n",
    "    if(a>b):\n",
    "        small=b\n",
    "    else:\n",
    "        small=a\n",
    "        for i in range(1,small+1):\n",
    "            if((a%i==0)and(b%i==0)):\n",
    "                GCD=i\n",
    "        return GCD \n",
    "number1=int(input(\"Enter first number:\"))\n",
    "number2=int(input(\"Enter second number:\"))\n",
    "print(\"GCD of {0} and {1} is:\".format(number1,number2),GCD(number1,number2))"
   ]
  },
  {
   "cell_type": "code",
   "execution_count": 10,
   "id": "29905967",
   "metadata": {},
   "outputs": [
    {
     "name": "stdout",
     "output_type": "stream",
     "text": [
      "HCF is: 100\n"
     ]
    }
   ],
   "source": [
    "#Write a python function to find HCf or GCD and return the value\n",
    "def GCD(a,b):\n",
    "    while(b):\n",
    "        a,b=b,a%b\n",
    "    return a\n",
    "hcf=GCD(300,400)\n",
    "print(\"HCF is:\",hcf)"
   ]
  },
  {
   "cell_type": "code",
   "execution_count": null,
   "id": "06f03d9f",
   "metadata": {},
   "outputs": [],
   "source": []
  }
 ],
 "metadata": {
  "kernelspec": {
   "display_name": "Python 3",
   "language": "python",
   "name": "python3"
  },
  "language_info": {
   "codemirror_mode": {
    "name": "ipython",
    "version": 3
   },
   "file_extension": ".py",
   "mimetype": "text/x-python",
   "name": "python",
   "nbconvert_exporter": "python",
   "pygments_lexer": "ipython3",
   "version": "3.8.8"
  }
 },
 "nbformat": 4,
 "nbformat_minor": 5
}
