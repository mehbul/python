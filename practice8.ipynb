{
 "cells": [
  {
   "cell_type": "code",
   "execution_count": 2,
   "id": "ce2f220e",
   "metadata": {},
   "outputs": [
    {
     "name": "stdout",
     "output_type": "stream",
     "text": [
      "Enter a number:5\n",
      "The factorial of  5 is: 120\n"
     ]
    }
   ],
   "source": [
    "#Python Program to Find Factorial of Number Using Recursion\n",
    "def factorial(n):\n",
    "    if n<=1:\n",
    "        return n\n",
    "    else:\n",
    "        return n*factorial(n-1)\n",
    "num=int(input(\"Enter a number:\"))\n",
    "if num<0:\n",
    "    print(\"Enter positive number\")\n",
    "elif num==0:\n",
    "    print(\"Factorial:{0}\".format(num))\n",
    "else:\n",
    "    print(\"The factorial of \",num,\"is:\",factorial(num))"
   ]
  },
  {
   "cell_type": "code",
   "execution_count": 9,
   "id": "cd1d6a9e",
   "metadata": {
    "scrolled": true
   },
   "outputs": [
    {
     "name": "stdout",
     "output_type": "stream",
     "text": [
      "Enter N for N X N matrix:3\n",
      "Enter the elements::>\n",
      "1\n",
      "2\n",
      "3\n",
      "4\n",
      "5\n",
      "6\n",
      "7\n",
      "8\n",
      "9\n",
      "[[1, 2, 3], [4, 5, 6], [7, 8, 9]]\n",
      "123\n",
      "456\n",
      "789\n",
      "Enter N for N X N matrix:3\n",
      "Enter the elements::>\n",
      "1\n",
      "2\n",
      "3\n",
      "4\n",
      "5\n",
      "6\n",
      "7\n",
      "8\n",
      "9\n",
      "[[1, 2, 3], [4, 5, 6], [7, 8, 9]]\n",
      "123\n",
      "456\n",
      "789\n",
      "Resultant Matrix is ::>\n",
      "[2, 4, 6]\n",
      "[8, 10, 12]\n",
      "[14, 16, 18]\n"
     ]
    }
   ],
   "source": [
    "#Python Program to Add Two Matrices\n",
    "A=[]\n",
    "n=int(input(\"Enter N for N X N matrix:\"))\n",
    "print(\"Enter the elements::>\")\n",
    "for i in range(n):\n",
    "    row=[]\n",
    "    for j in range(n):\n",
    "        row.append(int(input()))\n",
    "    A.append(row)\n",
    "print(A)\n",
    "for i in range(n):\n",
    "    for j in range(n):\n",
    "        print(A[i][j],end=\"\")\n",
    "    print()\n",
    "B=[]\n",
    "n=int(input(\"Enter N for N X N matrix:\"))\n",
    "print(\"Enter the elements::>\")\n",
    "for i in range(n):\n",
    "    row=[]\n",
    "    for j in range(n):\n",
    "        row.append(int(input()))\n",
    "    B.append(row)\n",
    "print(B)\n",
    "for i in range(n):\n",
    "    for j in range(n):\n",
    "        print(B[i][j],end=\"\")\n",
    "    print()\n",
    "result = [[0,0,0], [0,0,0], [0,0,0]] \n",
    "for i in range(n):     \n",
    "    for j in range(len(A[0])): \n",
    "        result[i][j] = A[i][j] + B[i][j] \n",
    "print(\"Resultant Matrix is ::>\")\n",
    "for r in result: \n",
    "    print(r) "
   ]
  },
  {
   "cell_type": "code",
   "execution_count": 18,
   "id": "e81130a0",
   "metadata": {},
   "outputs": [
    {
     "name": "stdout",
     "output_type": "stream",
     "text": [
      "Enter the number of rows:2\n",
      "Enter the number of columns:2\n",
      "Enter the elements in first matrix :\n",
      "1\n",
      "2\n",
      "3\n",
      "4\n",
      "First matrix is :\n",
      "[1, 2]\n",
      "[3, 4]\n",
      "Enter the elements in second matrix :\n",
      "1\n",
      "2\n",
      "3\n",
      "4\n",
      "Second matrix is :\n",
      "[1, 2]\n",
      "[3, 4]\n",
      "The sum of the above two matrix is :\n",
      "[2, 4]\n",
      "[6, 8]\n"
     ]
    }
   ],
   "source": [
    "#Python Program to Add Two Matrices using Nested List Comprehension\n",
    "rows=int(input(\"Enter the number of rows:\"))\n",
    "columns=int(input(\"Enter the number of columns:\"))\n",
    "\n",
    "print(\"Enter the elements in first matrix :\")\n",
    "matrix_a=[[int(input())for i in range(columns)]for j in range(rows)]\n",
    "print(\"First matrix is :\")\n",
    "for n in matrix_a:\n",
    "    print(n)\n",
    "print(\"Enter the elements in second matrix :\")\n",
    "matrix_b=[[int(input())for i in range(columns)]for j in range(rows)]\n",
    "print(\"Second matrix is :\")\n",
    "for n in matrix_b:\n",
    "    print(n)\n",
    "result=[[0 for i in range (columns)]for i in range (rows)]\n",
    "for i in range (rows):\n",
    "    for j in range (columns):\n",
    "        result[i][j]=matrix_a[i][j]+matrix_b[i][j]\n",
    "print(\"The sum of the above two matrix is :\")\n",
    "for n in result:\n",
    "    print(n)"
   ]
  },
  {
   "cell_type": "code",
   "execution_count": 22,
   "id": "fe8b51c1",
   "metadata": {},
   "outputs": [
    {
     "name": "stdout",
     "output_type": "stream",
     "text": [
      "Enter the number of row:2\n",
      "Enter the number of column:2\n",
      "Enter the elements in the matrix:\n",
      "1\n",
      "2\n",
      "3\n",
      "4\n",
      "First matrix is :\n",
      "[1, 2]\n",
      "[3, 4]\n",
      "Transpose of matrix is :\n",
      "[1, 3]\n",
      "[2, 4]\n"
     ]
    }
   ],
   "source": [
    "#Python Program to Transpose a Matrix using Nested Loop\n",
    "row=int(input(\"Enter the number of row:\"))\n",
    "column=int(input(\"Enter the number of column:\"))\n",
    "print(\"Enter the elements in the matrix:\")\n",
    "a=[[int(input())for i in range(column)]for j in range(row)]\n",
    "print(\"First matrix is :\")\n",
    "for n in a:\n",
    "    print(n)\n",
    "result=[[0 for i in range(column)]for j in range(row)]\n",
    "for i in range(row):\n",
    "    for j in range(column):\n",
    "        result[i][j]=a[j][i]\n",
    "print(\"Transpose of matrix is :\")\n",
    "for i in result:\n",
    "    print(i)"
   ]
  },
  {
   "cell_type": "code",
   "execution_count": null,
   "id": "6e064834",
   "metadata": {},
   "outputs": [],
   "source": []
  }
 ],
 "metadata": {
  "kernelspec": {
   "display_name": "Python 3",
   "language": "python",
   "name": "python3"
  },
  "language_info": {
   "codemirror_mode": {
    "name": "ipython",
    "version": 3
   },
   "file_extension": ".py",
   "mimetype": "text/x-python",
   "name": "python",
   "nbconvert_exporter": "python",
   "pygments_lexer": "ipython3",
   "version": "3.8.8"
  }
 },
 "nbformat": 4,
 "nbformat_minor": 5
}
