{
 "cells": [
  {
   "cell_type": "code",
   "execution_count": 5,
   "id": "27e4a2b7",
   "metadata": {},
   "outputs": [
    {
     "name": "stdout",
     "output_type": "stream",
     "text": [
      "Enter numbers separated by space:1 10 20 8 19 40\n",
      "Enter a number:3\n",
      "[40, 20, 19]\n"
     ]
    }
   ],
   "source": [
    "# Python program to find N largest element from given list of integers\n",
    "def maxelement(list1,n):\n",
    "    final_list=[]\n",
    "    for i in range(0,n):\n",
    "        max=0\n",
    "        for j in range(len(list1)):\n",
    "            if(list1[j]>max):\n",
    "                max=list1[j]\n",
    "        list1.remove(max)\n",
    "        final_list.append(max)\n",
    "    print(final_list)\n",
    "list1=list(map(int,input(\"Enter numbers separated by space:\").split()))\n",
    "n=int(input(\"Enter a number:\"))\n",
    "maxelement(list1,n)"
   ]
  },
  {
   "cell_type": "code",
   "execution_count": null,
   "id": "d7171ef2",
   "metadata": {},
   "outputs": [],
   "source": []
  }
 ],
 "metadata": {
  "kernelspec": {
   "display_name": "Python 3",
   "language": "python",
   "name": "python3"
  },
  "language_info": {
   "codemirror_mode": {
    "name": "ipython",
    "version": 3
   },
   "file_extension": ".py",
   "mimetype": "text/x-python",
   "name": "python",
   "nbconvert_exporter": "python",
   "pygments_lexer": "ipython3",
   "version": "3.8.8"
  }
 },
 "nbformat": 4,
 "nbformat_minor": 5
}
