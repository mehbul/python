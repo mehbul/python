{
 "cells": [
  {
   "cell_type": "code",
   "execution_count": 3,
   "id": "f4073be6",
   "metadata": {},
   "outputs": [],
   "source": [
    "#declaring and assigning value to constants\n",
    "PI=3.14\n",
    "GRAVITY=9.8"
   ]
  },
  {
   "cell_type": "code",
   "execution_count": 8,
   "id": "06f3f629",
   "metadata": {},
   "outputs": [
    {
     "name": "stdout",
     "output_type": "stream",
     "text": [
      "Apple\n",
      "Aeroplane\n",
      "100\n",
      "1 2.5 Hello\n",
      "5 5 5\n"
     ]
    }
   ],
   "source": [
    "#declaring and assigning value to a variable\n",
    "a=\"Apple\"\n",
    "print(a)\n",
    "\n",
    "#changing value of a variable\n",
    "a=\"Aeroplane\"\n",
    "print(a)\n",
    "\n",
    "a=100\n",
    "print(a)\n",
    "\n",
    "#assigning multiple values to a variable\n",
    "b,c,d=1,2.5,\"Hello\"\n",
    "print(b,c,d)\n",
    "\n",
    "#assigning same value to different variable\n",
    "a=b=c=5\n",
    "print(a,b,c)"
   ]
  },
  {
   "cell_type": "code",
   "execution_count": null,
   "id": "c1d1b15f",
   "metadata": {},
   "outputs": [],
   "source": []
  }
 ],
 "metadata": {
  "kernelspec": {
   "display_name": "Python 3",
   "language": "python",
   "name": "python3"
  },
  "language_info": {
   "codemirror_mode": {
    "name": "ipython",
    "version": 3
   },
   "file_extension": ".py",
   "mimetype": "text/x-python",
   "name": "python",
   "nbconvert_exporter": "python",
   "pygments_lexer": "ipython3",
   "version": "3.8.8"
  }
 },
 "nbformat": 4,
 "nbformat_minor": 5
}
