{
 "cells": [
  {
   "cell_type": "code",
   "execution_count": 1,
   "id": "3ab02934",
   "metadata": {},
   "outputs": [
    {
     "name": "stdout",
     "output_type": "stream",
     "text": [
      "The list after removing duplicates : [1, 5, 3, 6]\n"
     ]
    }
   ],
   "source": [
    "#Keep All items from List But NOT the Duplicates\n",
    "test_list = [1, 5, 3, 6, 3, 5, 6, 1]\n",
    "res = [i for n, i in enumerate(test_list) if i not in test_list[:n]]\n",
    "print (\"The list after removing duplicates : \" + str(res))"
   ]
  },
  {
   "cell_type": "code",
   "execution_count": 2,
   "id": "81ca2a93",
   "metadata": {},
   "outputs": [
    {
     "name": "stdout",
     "output_type": "stream",
     "text": [
      "NAME       AGE        COURSE    \n",
      "Samuel     21         Data Structures\n",
      "Richie     20         Machine Learning\n",
      "Lauren     21         OOPS with java\n"
     ]
    }
   ],
   "source": [
    "# Create and print a dictionary\n",
    "dict={}\n",
    "dict1 = {1: [\"Samuel\", 21, 'Data Structures'],\n",
    "     2: [\"Richie\", 20, 'Machine Learning'],\n",
    "     3: [\"Lauren\", 21, 'OOPS with java'],\n",
    "     }\n",
    "print (\"{:<10} {:<10} {:<10}\".format('NAME', 'AGE', 'COURSE'))\n",
    "for key, value in dict1.items():\n",
    "    name, age, course = value\n",
    "    print (\"{:<10} {:<10} {:<10}\".format(name, age, course))"
   ]
  },
  {
   "cell_type": "code",
   "execution_count": 5,
   "id": "76491695",
   "metadata": {},
   "outputs": [
    {
     "name": "stdout",
     "output_type": "stream",
     "text": [
      "len() method : 3\n",
      "len() method with keys() : 3\n",
      "len() method with values(): 3\n"
     ]
    }
   ],
   "source": [
    "# Calculate the length of dictionary\n",
    "dict1 ={'Name':'Steve', 'Age':30, 'Designation':'Programmer'}\n",
    "print(\"len() method :\", len(dict1))\n",
    "print(\"len() method with keys() :\", len(dict1.keys()))\n",
    "print(\"len() method with values():\", len(dict1.values()))"
   ]
  },
  {
   "cell_type": "code",
   "execution_count": null,
   "id": "4f357076",
   "metadata": {},
   "outputs": [],
   "source": []
  }
 ],
 "metadata": {
  "kernelspec": {
   "display_name": "Python 3",
   "language": "python",
   "name": "python3"
  },
  "language_info": {
   "codemirror_mode": {
    "name": "ipython",
    "version": 3
   },
   "file_extension": ".py",
   "mimetype": "text/x-python",
   "name": "python",
   "nbconvert_exporter": "python",
   "pygments_lexer": "ipython3",
   "version": "3.8.8"
  }
 },
 "nbformat": 4,
 "nbformat_minor": 5
}
