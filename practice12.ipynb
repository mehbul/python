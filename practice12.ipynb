{
 "cells": [
  {
   "cell_type": "code",
   "execution_count": 8,
   "id": "e787e17f",
   "metadata": {},
   "outputs": [
    {
     "name": "stdout",
     "output_type": "stream",
     "text": [
      "Input List:\n",
      "1\n",
      "2\n",
      "3\n",
      "4\n",
      "5\n",
      "\n",
      "List after right rotation:\n",
      "3\n",
      "4\n",
      "5\n",
      "1\n",
      "2\n"
     ]
    }
   ],
   "source": [
    "#Python Program to Rotate an array of n elements to the right by k steps.\n",
    "my_list=[1,2,3,4,5]\n",
    "k=3\n",
    "\n",
    "print(\"Input List:\")\n",
    "for i in range(0,len(my_list)):\n",
    "    print(my_list[i])\n",
    "    \n",
    "for i in range(0,k):\n",
    "    last=my_list[len(my_list)-1]\n",
    "    for j in range(len(my_list)-1,-1,-1):\n",
    "        my_list[j]=my_list[j-1]\n",
    "    my_list[0]=last\n",
    "    \n",
    "print()\n",
    "\n",
    "print(\"List after right rotation:\")\n",
    "for i in range(0,len(my_list)):\n",
    "    print(my_list[i])"
   ]
  },
  {
   "cell_type": "code",
   "execution_count": 11,
   "id": "c67cd27b",
   "metadata": {},
   "outputs": [
    {
     "name": "stdout",
     "output_type": "stream",
     "text": [
      "Enter a number:4\n",
      "[[1, 2, 3, 4], [5, 6, 7, 8], [9, 10, 11, 12]]\n"
     ]
    }
   ],
   "source": [
    "#Python Program Given a list slice it into a 3 equal chunks and revert each list\n",
    "my_list=[1,2,3,4,5,6,7,8,9,10,11,12]\n",
    "n=int(input(\"Enter a number:\"))\n",
    "x=[my_list[i:i+n]for i in range(0,len(my_list),n)]\n",
    "print(x)"
   ]
  },
  {
   "cell_type": "code",
   "execution_count": 1,
   "id": "73dac823",
   "metadata": {},
   "outputs": [
    {
     "name": "stdout",
     "output_type": "stream",
     "text": [
      "3^2 = 9\n",
      "144^3 = 2985984\n",
      "-987^4 = 949005240561\n",
      "25^-5 = 1.024e-07\n",
      "-0.25^0.125 = (0.7768869870150186+0.3217971264527913j)\n"
     ]
    }
   ],
   "source": [
    "#Python program to calculate exponents of an input\n",
    "valueA = 3\n",
    "valueB = 144\n",
    "valueC = -987\n",
    "valueD = 25\n",
    "valueE = -0.25\n",
    "\n",
    "aExp = valueA ** 2\n",
    "bExp = valueB ** 3\n",
    "cExp = valueC ** 4\n",
    "dExp = valueD ** -5\n",
    "eExp = valueE ** 0.125\n",
    "\n",
    "print(valueA, \"^2 = \", aExp, sep=\"\")\n",
    "print(valueB, \"^3 = \", bExp, sep=\"\")\n",
    "print(valueC, \"^4 = \", cExp, sep=\"\")\n",
    "print(valueD, \"^-5 = \", dExp, sep=\"\")\n",
    "print(valueE, \"^0.125 = \", eExp, sep=\"\")"
   ]
  },
  {
   "cell_type": "code",
   "execution_count": 2,
   "id": "90624275",
   "metadata": {},
   "outputs": [
    {
     "name": "stdout",
     "output_type": "stream",
     "text": [
      "15\n"
     ]
    }
   ],
   "source": [
    "#Python program to compute sum of digits in number\n",
    "def getsum(n):\n",
    "    sum=0\n",
    "    for digit in str(n):\n",
    "        sum+=int(digit)\n",
    "    return sum\n",
    "n=12345\n",
    "print(getsum(n))"
   ]
  },
  {
   "cell_type": "code",
   "execution_count": null,
   "id": "10b7b570",
   "metadata": {},
   "outputs": [],
   "source": []
  }
 ],
 "metadata": {
  "kernelspec": {
   "display_name": "Python 3",
   "language": "python",
   "name": "python3"
  },
  "language_info": {
   "codemirror_mode": {
    "name": "ipython",
    "version": 3
   },
   "file_extension": ".py",
   "mimetype": "text/x-python",
   "name": "python",
   "nbconvert_exporter": "python",
   "pygments_lexer": "ipython3",
   "version": "3.8.8"
  }
 },
 "nbformat": 4,
 "nbformat_minor": 5
}
