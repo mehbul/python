{
 "cells": [
  {
   "cell_type": "code",
   "execution_count": 4,
   "id": "c0a259ef",
   "metadata": {},
   "outputs": [
    {
     "name": "stdout",
     "output_type": "stream",
     "text": [
      "Enter two numbers:10\n",
      "Enter two numbers:20\n",
      "20\n"
     ]
    }
   ],
   "source": [
    "#Write a python program to find HCf or GCD using euclidian Algorithm\n",
    "def GCD(l,r):\n",
    "    while(r):\n",
    "        l,r=r,l%r\n",
    "        return l\n",
    "a=int(input(\"Enter two numbers:\"))\n",
    "b=int(input(\"Enter two numbers:\"))\n",
    "print(GCD(a,b))"
   ]
  },
  {
   "cell_type": "code",
   "execution_count": 6,
   "id": "154a2cd2",
   "metadata": {},
   "outputs": [
    {
     "name": "stdout",
     "output_type": "stream",
     "text": [
      " Please Enter the First Value a: 3\n",
      " Please Enter the Second Value b: 4\n",
      "\n",
      " LCM of 3.0 and 4.0 = 12.0\n"
     ]
    }
   ],
   "source": [
    "#Python Program to Find LCM\n",
    "a = float(input(\" Please Enter the First Value a: \"))\n",
    "b = float(input(\" Please Enter the Second Value b: \"))\n",
    "\n",
    "if(a > b):\n",
    "    maximum = a\n",
    "else:\n",
    "    maximum = b\n",
    "\n",
    "while(True):\n",
    "    if(maximum % a == 0 and maximum % b == 0):\n",
    "        print(\"\\n LCM of {0} and {1} = {2}\".format(a, b, maximum))\n",
    "        break;\n",
    "    maximum = maximum + 1"
   ]
  },
  {
   "cell_type": "code",
   "execution_count": 7,
   "id": "0dd7dd0d",
   "metadata": {},
   "outputs": [
    {
     "name": "stdout",
     "output_type": "stream",
     "text": [
      "ENTER a number:3\n",
      "ENTER a number:4\n",
      "12\n"
     ]
    }
   ],
   "source": [
    "#write a Python function to Find LCM and returb the value\n",
    "def LCM(a,b):\n",
    "    if(a>b):\n",
    "        greater=a\n",
    "    else:\n",
    "        greater=b\n",
    "    while(True):\n",
    "        if((greater%a==0)and(greater%b==0)):\n",
    "            LCM=greater\n",
    "            break\n",
    "        greater+=1\n",
    "    return LCM\n",
    "a=int(input(\"ENTER a number:\"))\n",
    "b=int(input(\"ENTER a number:\"))\n",
    "print(LCM(a,b))"
   ]
  },
  {
   "cell_type": "code",
   "execution_count": 20,
   "id": "bfb9fb7d",
   "metadata": {},
   "outputs": [
    {
     "name": "stdout",
     "output_type": "stream",
     "text": [
      "Enter number:3\n",
      "Enter number:4\n",
      "GCD of 3.0 and 4.0 are:1.0\n",
      "LCM of 3.0 and 4.0 are:12.0\n"
     ]
    }
   ],
   "source": [
    "#Python Program to Compute LCM Using GCD\n",
    "num1=float(input(\"Enter number:\"))\n",
    "num2=float(input(\"Enter number:\"))\n",
    "a=num1\n",
    "b=num2\n",
    "while(num2!=0):\n",
    "    temp=num2\n",
    "    num2=num1%num2\n",
    "    num1=temp\n",
    "gcd=num1\n",
    "print(\"GCD of {0} and {1} are:{2}\".format(a,b,gcd))\n",
    "lcm=(a*b)/gcd\n",
    "print(\"LCM of {0} and {1} are:{2}\".format(a,b,lcm))"
   ]
  },
  {
   "cell_type": "code",
   "execution_count": null,
   "id": "ef9b2df0",
   "metadata": {},
   "outputs": [],
   "source": []
  }
 ],
 "metadata": {
  "kernelspec": {
   "display_name": "Python 3",
   "language": "python",
   "name": "python3"
  },
  "language_info": {
   "codemirror_mode": {
    "name": "ipython",
    "version": 3
   },
   "file_extension": ".py",
   "mimetype": "text/x-python",
   "name": "python",
   "nbconvert_exporter": "python",
   "pygments_lexer": "ipython3",
   "version": "3.8.8"
  }
 },
 "nbformat": 4,
 "nbformat_minor": 5
}
