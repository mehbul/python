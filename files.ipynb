{
 "cells": [
  {
   "cell_type": "code",
   "execution_count": 1,
   "metadata": {},
   "outputs": [],
   "source": [
    "path = \"C:/Users/KIIT/Downloads/datafile.txt\"\n",
    "fileObj = open( path )"
   ]
  },
  {
   "cell_type": "code",
   "execution_count": 2,
   "metadata": {},
   "outputs": [
    {
     "data": {
      "text/plain": [
       "<_io.TextIOWrapper name='C:/Users/KIIT/Downloads/myfile.txt' mode='r' encoding='cp1252'>"
      ]
     },
     "execution_count": 2,
     "metadata": {},
     "output_type": "execute_result"
    }
   ],
   "source": [
    "open( \"C:/Users/KIIT/Downloads/myfile.txt\", \"r\" ) # open for reading, default"
   ]
  },
  {
   "cell_type": "code",
   "execution_count": 3,
   "metadata": {},
   "outputs": [
    {
     "data": {
      "text/plain": [
       "<_io.TextIOWrapper name='C:/Users/KIIT/Downloads/myfile.txt' mode='w' encoding='cp1252'>"
      ]
     },
     "execution_count": 3,
     "metadata": {},
     "output_type": "execute_result"
    }
   ],
   "source": [
    "open( \"C:/Users/KIIT/Downloads/myfile.txt\", \"w\" ) # open for writing (existing files will be overwritten)"
   ]
  },
  {
   "cell_type": "code",
   "execution_count": 4,
   "metadata": {},
   "outputs": [
    {
     "data": {
      "text/plain": [
       "<_io.TextIOWrapper name='C:/Users/KIIT/Downloads/myfile.txt' mode='a' encoding='cp1252'>"
      ]
     },
     "execution_count": 4,
     "metadata": {},
     "output_type": "execute_result"
    }
   ],
   "source": [
    "open( \"C:/Users/KIIT/Downloads/myfile.txt\", \"a\" ) # open for appending"
   ]
  },
  {
   "cell_type": "code",
   "execution_count": 5,
   "metadata": {},
   "outputs": [],
   "source": [
    "fileObj.close()"
   ]
  },
  {
   "cell_type": "code",
   "execution_count": 6,
   "metadata": {},
   "outputs": [
    {
     "name": "stdout",
     "output_type": "stream",
     "text": [
      "Index\tOrganism\tScore\n",
      "\n",
      "1\tHuman\t\t1.076\n",
      "\n",
      "2\tMouse\t\t1.202\n",
      "\n",
      "3\tFrog\t\t2.2362\n",
      "\n",
      "4\tFly\t\t0.9853\n"
     ]
    }
   ],
   "source": [
    "fileObj = open( \"C:/Users/KIIT/Downloads/datafile.txt\" )\n",
    "print(fileObj.read()) # everything\n",
    "fileObj.close()"
   ]
  },
  {
   "cell_type": "code",
   "execution_count": 7,
   "metadata": {},
   "outputs": [
    {
     "name": "stdout",
     "output_type": "stream",
     "text": [
      "1st line: Index\tOrganism\tScore\n",
      "\n",
      "2nd line: \n",
      "\n",
      "3rd line: 1\tHuman\t\t1.076\n",
      "\n",
      "4th line: \n",
      "\n"
     ]
    }
   ],
   "source": [
    "# one line at a time\n",
    "fileObj = open( \"C:/Users/KIIT/Downloads/datafile.txt\" )\n",
    "print(\"1st line:\", fileObj.readline())\n",
    "print(\"2nd line:\", fileObj.readline())\n",
    "print(\"3rd line:\", fileObj.readline())\n",
    "print(\"4th line:\", fileObj.readline())\n",
    "fileObj.close()"
   ]
  },
  {
   "cell_type": "code",
   "execution_count": 8,
   "metadata": {},
   "outputs": [
    {
     "name": "stdout",
     "output_type": "stream",
     "text": [
      "The file has 9 lines\n"
     ]
    }
   ],
   "source": [
    "# all lines\n",
    "fileObj = open( \"C:/Users/KIIT/Downloads/datafile.txt\" )\n",
    "\n",
    "lines = fileObj.readlines()\n",
    "\n",
    "print(\"The file has\", len(lines), \"lines\")\n",
    "\n",
    "fileObj.close()"
   ]
  },
  {
   "cell_type": "code",
   "execution_count": 9,
   "metadata": {},
   "outputs": [
    {
     "name": "stdout",
     "output_type": "stream",
     "text": [
      "INDEX\tORGANISM\tSCORE\n",
      "\n",
      "1\tHUMAN\t\t1.076\n",
      "\n",
      "2\tMOUSE\t\t1.202\n",
      "\n",
      "3\tFROG\t\t2.2362\n",
      "\n",
      "4\tFLY\t\t0.9853\n"
     ]
    }
   ],
   "source": [
    "# as an iterable\n",
    "fileObj = open( \"C:/Users/KIIT/Downloads/datafile.txt\" )\n",
    "\n",
    "for line in fileObj:\n",
    "    print(line.rstrip().upper())\n",
    "\n",
    "fileObj.close()"
   ]
  },
  {
   "cell_type": "code",
   "execution_count": 10,
   "metadata": {},
   "outputs": [
    {
     "name": "stdout",
     "output_type": "stream",
     "text": [
      "1: 'Index\\tOrganism\\tScore\\n'\n",
      "2: '\\n'\n",
      "3: '1\\tHuman\\t\\t1.076\\n'\n",
      "4: '\\n'\n",
      "5: '2\\tMouse\\t\\t1.202\\n'\n",
      "6: '\\n'\n",
      "7: '3\\tFrog\\t\\t2.2362\\n'\n",
      "8: '\\n'\n",
      "9: '4\\tFly\\t\\t0.9853'\n"
     ]
    }
   ],
   "source": [
    "# fileObj will be closed when leaving the block\n",
    "with open( \"C:/Users/KIIT/Downloads/datafile.txt\" ) as fileObj:\n",
    "    for ( i, line ) in enumerate( fileObj, start = 1 ):\n",
    "        print(\"%s: %r\" % ( i, line ))"
   ]
  },
  {
   "cell_type": "code",
   "execution_count": 11,
   "metadata": {},
   "outputs": [],
   "source": [
    "marks = {\n",
    "    'Luttapi': 43,\n",
    "    'Dagini': 32,\n",
    "    'Mayavi': 34\n",
    "}\n",
    "\n",
    "with open( \"C:/Users/KIIT/Downloads/myfile.txt\", \"w\" ) as output:\n",
    "    output.write(\"Name\\tMark\\n\")\n",
    "\n",
    "    for mark in marks:\n",
    "        line = \"\\t\".join( [ mark, str(marks[mark]) ] )\n",
    "        output.write(line + \"\\n\")"
   ]
  },
  {
   "cell_type": "code",
   "execution_count": 12,
   "metadata": {},
   "outputs": [
    {
     "name": "stdout",
     "output_type": "stream",
     "text": [
      "[[''], ['1\\tHuman\\t\\t1.076'], [''], ['2\\tMouse\\t\\t1.202'], [''], ['3\\tFrog\\t\\t2.2362'], [''], ['4\\tFly\\t\\t0.9853']]\n"
     ]
    }
   ],
   "source": [
    "results = []\n",
    "\n",
    "with open(\"C:/Users/KIIT/Downloads/datafile.txt\", \"r\") as data:\n",
    "    header = data.readline()\n",
    "    for line in data:\n",
    "        line = line.strip()\n",
    "        results.append(line.split(\" \"))\n",
    "        \n",
    "print(results)"
   ]
  },
  {
   "cell_type": "code",
   "execution_count": 30,
   "metadata": {},
   "outputs": [
    {
     "name": "stdout",
     "output_type": "stream",
     "text": [
      "[{'Index': [''], 'Organism': [''], 'Score': ['']}, {'Index': ['1\\tHuman\\t\\t1.076'], 'Organism': ['1\\tHuman\\t\\t1.076'], 'Score': ['1\\tHuman\\t\\t1.076']}, {'Index': [''], 'Organism': [''], 'Score': ['']}, {'Index': ['2\\tMouse\\t\\t1.202'], 'Organism': ['2\\tMouse\\t\\t1.202'], 'Score': ['2\\tMouse\\t\\t1.202']}, {'Index': [''], 'Organism': [''], 'Score': ['']}, {'Index': ['3\\tFrog\\t\\t2.2362'], 'Organism': ['3\\tFrog\\t\\t2.2362'], 'Score': ['3\\tFrog\\t\\t2.2362']}, {'Index': [''], 'Organism': [''], 'Score': ['']}, {'Index': ['4\\tFly\\t\\t0.9853'], 'Organism': ['4\\tFly\\t\\t0.9853'], 'Score': ['4\\tFly\\t\\t0.9853']}]\n",
      "Score of first row: ['']\n"
     ]
    }
   ],
   "source": [
    "results = []\n",
    "\n",
    "with open(\"C:/Users/KIIT/Downloads/datafile.txt\", \"r\") as data:\n",
    "    header = data.readline()\n",
    "    for line in data:\n",
    "        idx= line.strip().split(\" \")\n",
    "        org= line.strip().split(\" \")\n",
    "        score= line.strip().split(\" \")\n",
    "        row = {'Index': idx, 'Organism': org, 'Score': score}\n",
    "        results.append(row)\n",
    "        \n",
    "print(results)\n",
    "print('Score of first row:', results[0]['Score'])"
   ]
  },
  {
   "cell_type": "code",
   "execution_count": 14,
   "metadata": {},
   "outputs": [],
   "source": [
    "mydata = [{'Organism': 'Human', 'Index': 1, 'Score': 1.076}, \n",
    "          {'Organism': 'Mouse', 'Index': 2, 'Score': 1.202}, \n",
    "          {'Organism': 'Frog', 'Index': 3, 'Score': 2.2362}, \n",
    "          {'Organism': 'Fly', 'Index': 4, 'Score': 0.9853}]\n",
    "\n",
    "with open('C:/Users/KIIT/Downloads/datafile.csv', 'w') as output:\n",
    "    # write a header\n",
    "    header = \",\".join(['Index', 'Organism', 'Score'])\n",
    "    output.write(header + \"\\n\")\n",
    "    for row in mydata:\n",
    "        line = \",\".join([str(row['Index']), row['Organism'], str(row['Score'])])\n",
    "        output.write(line + \"\\n\")"
   ]
  },
  {
   "cell_type": "code",
   "execution_count": 15,
   "metadata": {},
   "outputs": [
    {
     "name": "stdout",
     "output_type": "stream",
     "text": [
      "3.141592653589793 2.718281828459045\n"
     ]
    }
   ],
   "source": [
    "import math\n",
    "print(math.pi, math.e)"
   ]
  },
  {
   "cell_type": "code",
   "execution_count": 16,
   "metadata": {},
   "outputs": [
    {
     "name": "stdout",
     "output_type": "stream",
     "text": [
      "3.141592653589793 2.718281828459045\n"
     ]
    }
   ],
   "source": [
    "import math as m\n",
    "print(m.pi, m.e)"
   ]
  },
  {
   "cell_type": "code",
   "execution_count": 17,
   "metadata": {},
   "outputs": [
    {
     "name": "stdout",
     "output_type": "stream",
     "text": [
      "3.141592653589793 2.718281828459045\n"
     ]
    }
   ],
   "source": [
    "from math import pi, e\n",
    "print(pi, e)"
   ]
  },
  {
   "cell_type": "code",
   "execution_count": 18,
   "metadata": {},
   "outputs": [],
   "source": [
    "from math import pi\n",
    "from math import e"
   ]
  },
  {
   "cell_type": "code",
   "execution_count": 19,
   "metadata": {},
   "outputs": [
    {
     "data": {
      "text/plain": [
       "['__doc__',\n",
       " '__loader__',\n",
       " '__name__',\n",
       " '__package__',\n",
       " '__spec__',\n",
       " 'acos',\n",
       " 'acosh',\n",
       " 'asin',\n",
       " 'asinh',\n",
       " 'atan',\n",
       " 'atan2',\n",
       " 'atanh',\n",
       " 'ceil',\n",
       " 'comb',\n",
       " 'copysign',\n",
       " 'cos',\n",
       " 'cosh',\n",
       " 'degrees',\n",
       " 'dist',\n",
       " 'e',\n",
       " 'erf',\n",
       " 'erfc',\n",
       " 'exp',\n",
       " 'expm1',\n",
       " 'fabs',\n",
       " 'factorial',\n",
       " 'floor',\n",
       " 'fmod',\n",
       " 'frexp',\n",
       " 'fsum',\n",
       " 'gamma',\n",
       " 'gcd',\n",
       " 'hypot',\n",
       " 'inf',\n",
       " 'isclose',\n",
       " 'isfinite',\n",
       " 'isinf',\n",
       " 'isnan',\n",
       " 'isqrt',\n",
       " 'ldexp',\n",
       " 'lgamma',\n",
       " 'log',\n",
       " 'log10',\n",
       " 'log1p',\n",
       " 'log2',\n",
       " 'modf',\n",
       " 'nan',\n",
       " 'perm',\n",
       " 'pi',\n",
       " 'pow',\n",
       " 'prod',\n",
       " 'radians',\n",
       " 'remainder',\n",
       " 'sin',\n",
       " 'sinh',\n",
       " 'sqrt',\n",
       " 'tan',\n",
       " 'tanh',\n",
       " 'tau',\n",
       " 'trunc']"
      ]
     },
     "execution_count": 19,
     "metadata": {},
     "output_type": "execute_result"
    }
   ],
   "source": [
    "import math\n",
    "dir(math)"
   ]
  },
  {
   "cell_type": "code",
   "execution_count": 20,
   "metadata": {},
   "outputs": [
    {
     "data": {
      "text/plain": [
       "['__add__',\n",
       " '__class__',\n",
       " '__contains__',\n",
       " '__delattr__',\n",
       " '__dir__',\n",
       " '__doc__',\n",
       " '__eq__',\n",
       " '__format__',\n",
       " '__ge__',\n",
       " '__getattribute__',\n",
       " '__getitem__',\n",
       " '__getnewargs__',\n",
       " '__gt__',\n",
       " '__hash__',\n",
       " '__init__',\n",
       " '__init_subclass__',\n",
       " '__iter__',\n",
       " '__le__',\n",
       " '__len__',\n",
       " '__lt__',\n",
       " '__mod__',\n",
       " '__mul__',\n",
       " '__ne__',\n",
       " '__new__',\n",
       " '__reduce__',\n",
       " '__reduce_ex__',\n",
       " '__repr__',\n",
       " '__rmod__',\n",
       " '__rmul__',\n",
       " '__setattr__',\n",
       " '__sizeof__',\n",
       " '__str__',\n",
       " '__subclasshook__',\n",
       " 'capitalize',\n",
       " 'casefold',\n",
       " 'center',\n",
       " 'count',\n",
       " 'encode',\n",
       " 'endswith',\n",
       " 'expandtabs',\n",
       " 'find',\n",
       " 'format',\n",
       " 'format_map',\n",
       " 'index',\n",
       " 'isalnum',\n",
       " 'isalpha',\n",
       " 'isascii',\n",
       " 'isdecimal',\n",
       " 'isdigit',\n",
       " 'isidentifier',\n",
       " 'islower',\n",
       " 'isnumeric',\n",
       " 'isprintable',\n",
       " 'isspace',\n",
       " 'istitle',\n",
       " 'isupper',\n",
       " 'join',\n",
       " 'ljust',\n",
       " 'lower',\n",
       " 'lstrip',\n",
       " 'maketrans',\n",
       " 'partition',\n",
       " 'replace',\n",
       " 'rfind',\n",
       " 'rindex',\n",
       " 'rjust',\n",
       " 'rpartition',\n",
       " 'rsplit',\n",
       " 'rstrip',\n",
       " 'split',\n",
       " 'splitlines',\n",
       " 'startswith',\n",
       " 'strip',\n",
       " 'swapcase',\n",
       " 'title',\n",
       " 'translate',\n",
       " 'upper',\n",
       " 'zfill']"
      ]
     },
     "execution_count": 20,
     "metadata": {},
     "output_type": "execute_result"
    }
   ],
   "source": [
    "dir(\"mystring\")"
   ]
  },
  {
   "cell_type": "code",
   "execution_count": 21,
   "metadata": {},
   "outputs": [
    {
     "data": {
      "text/plain": [
       "['__add__',\n",
       " '__class__',\n",
       " '__contains__',\n",
       " '__delattr__',\n",
       " '__dir__',\n",
       " '__doc__',\n",
       " '__eq__',\n",
       " '__format__',\n",
       " '__ge__',\n",
       " '__getattribute__',\n",
       " '__getitem__',\n",
       " '__getnewargs__',\n",
       " '__gt__',\n",
       " '__hash__',\n",
       " '__init__',\n",
       " '__init_subclass__',\n",
       " '__iter__',\n",
       " '__le__',\n",
       " '__len__',\n",
       " '__lt__',\n",
       " '__mod__',\n",
       " '__mul__',\n",
       " '__ne__',\n",
       " '__new__',\n",
       " '__reduce__',\n",
       " '__reduce_ex__',\n",
       " '__repr__',\n",
       " '__rmod__',\n",
       " '__rmul__',\n",
       " '__setattr__',\n",
       " '__sizeof__',\n",
       " '__str__',\n",
       " '__subclasshook__',\n",
       " 'capitalize',\n",
       " 'casefold',\n",
       " 'center',\n",
       " 'count',\n",
       " 'encode',\n",
       " 'endswith',\n",
       " 'expandtabs',\n",
       " 'find',\n",
       " 'format',\n",
       " 'format_map',\n",
       " 'index',\n",
       " 'isalnum',\n",
       " 'isalpha',\n",
       " 'isascii',\n",
       " 'isdecimal',\n",
       " 'isdigit',\n",
       " 'isidentifier',\n",
       " 'islower',\n",
       " 'isnumeric',\n",
       " 'isprintable',\n",
       " 'isspace',\n",
       " 'istitle',\n",
       " 'isupper',\n",
       " 'join',\n",
       " 'ljust',\n",
       " 'lower',\n",
       " 'lstrip',\n",
       " 'maketrans',\n",
       " 'partition',\n",
       " 'replace',\n",
       " 'rfind',\n",
       " 'rindex',\n",
       " 'rjust',\n",
       " 'rpartition',\n",
       " 'rsplit',\n",
       " 'rstrip',\n",
       " 'split',\n",
       " 'splitlines',\n",
       " 'startswith',\n",
       " 'strip',\n",
       " 'swapcase',\n",
       " 'title',\n",
       " 'translate',\n",
       " 'upper',\n",
       " 'zfill']"
      ]
     },
     "execution_count": 21,
     "metadata": {},
     "output_type": "execute_result"
    }
   ],
   "source": [
    "dir(str)"
   ]
  },
  {
   "cell_type": "code",
   "execution_count": 22,
   "metadata": {},
   "outputs": [
    {
     "name": "stdout",
     "output_type": "stream",
     "text": [
      "Help on method_descriptor:\n",
      "\n",
      "title(self, /)\n",
      "    Return a version of the string where each word is titlecased.\n",
      "    \n",
      "    More specifically, words start with uppercased characters and all remaining\n",
      "    cased characters have lower case.\n",
      "\n"
     ]
    }
   ],
   "source": [
    "help(str.title)"
   ]
  },
  {
   "cell_type": "code",
   "execution_count": 23,
   "metadata": {},
   "outputs": [
    {
     "name": "stdout",
     "output_type": "stream",
     "text": [
      "['Index\\tOrganism\\tScore']\n",
      "[]\n",
      "['1\\tHuman\\t\\t1.076']\n",
      "[]\n",
      "['2\\tMouse\\t\\t1.202']\n",
      "[]\n",
      "['3\\tFrog\\t\\t2.2362']\n",
      "[]\n",
      "['4\\tFly\\t\\t0.9853']\n"
     ]
    }
   ],
   "source": [
    "import csv\n",
    "with open(\"C:/Users/KIIT/Downloads/datafile.txt\") as f:\n",
    "    reader = csv.reader(f, delimiter = \" \") # default delimiter is \",\"\n",
    "    for row in reader:\n",
    "        print(row)"
   ]
  },
  {
   "cell_type": "code",
   "execution_count": 24,
   "metadata": {},
   "outputs": [
    {
     "name": "stdout",
     "output_type": "stream",
     "text": [
      "{'Index\\tOrganism\\tScore': '1\\tHuman\\t\\t1.076'}\n",
      "{'Index\\tOrganism\\tScore': '2\\tMouse\\t\\t1.202'}\n",
      "{'Index\\tOrganism\\tScore': '3\\tFrog\\t\\t2.2362'}\n",
      "{'Index\\tOrganism\\tScore': '4\\tFly\\t\\t0.9853'}\n"
     ]
    }
   ],
   "source": [
    "with open(\"C:/Users/KIIT/Downloads/datafile.txt\") as f:\n",
    "    reader = csv.DictReader(f, delimiter = \" \")\n",
    "    for row in reader:\n",
    "        print(row)"
   ]
  },
  {
   "cell_type": "code",
   "execution_count": 25,
   "metadata": {},
   "outputs": [
    {
     "name": "stdout",
     "output_type": "stream",
     "text": [
      "Index\tOrganism\tScore\n",
      "\n",
      "1\tHuman\t1.076\n",
      "\n",
      "2\tMouse\t1.202\n",
      "\n",
      "3\tFrog\t2.2362\n",
      "\n",
      "4\tFly\t0.9853\n",
      "\n",
      "\n"
     ]
    }
   ],
   "source": [
    "# Write tab delimited files using the csv module\n",
    "import csv\n",
    "\n",
    "mydata = [\n",
    "    ['1', 'Human', '1.076'], \n",
    "    ['2', 'Mouse', '1.202'], \n",
    "    ['3', 'Frog', '2.2362'], \n",
    "    ['4', 'Fly', '0.9853']\n",
    "]\n",
    "\n",
    "with open(\"csvdata.tsv\", \"w\") as f:\n",
    "    writer = csv.writer(f, delimiter='\\t' )\n",
    "    writer.writerow( [ \"Index\", \"Organism\", \"Score\" ] ) # write header\n",
    "    for record in mydata:\n",
    "        writer.writerow( record )\n",
    "\n",
    "# Open the output file and print out its content\n",
    "with open(\"csvdata.tsv\") as f:\n",
    "    print(f.read())"
   ]
  },
  {
   "cell_type": "code",
   "execution_count": 26,
   "metadata": {},
   "outputs": [
    {
     "name": "stdout",
     "output_type": "stream",
     "text": [
      "Index\tScore\tOrganism\n",
      "\n",
      "1\t1.076\tHuman\n",
      "\n",
      "2\t1.202\tMouse\n",
      "\n",
      "3\t2.2362\tFrog\n",
      "\n",
      "4\t0.9853\tFly\n",
      "\n",
      "\n"
     ]
    }
   ],
   "source": [
    "# Write delimited files using the csv module from a list of dictionaries \n",
    "import csv\n",
    "\n",
    "mydata = [\n",
    "    {'Index': '1', 'Score': '1.076', 'Organism': 'Human'}, \n",
    "    {'Index': '2', 'Score': '1.202', 'Organism': 'Mouse'}, \n",
    "    {'Index': '3', 'Score': '2.2362', 'Organism': 'Frog'}, \n",
    "    {'Index': '4', 'Score': '0.9853', 'Organism': 'Fly'}\n",
    "]\n",
    "\n",
    "with open(\"csvdictdata.tsv\", \"w\") as f:\n",
    "    writer = csv.DictWriter(f, mydata[0].keys(), delimiter='\\t')\n",
    "    writer.writeheader() # write header\n",
    "\n",
    "    for record in mydata:\n",
    "        writer.writerow( record )\n",
    "\n",
    "# Open the output file and print out its content\n",
    "with open(\"csvdictdata.tsv\") as f:\n",
    "    print(f.read())"
   ]
  },
  {
   "cell_type": "code",
   "execution_count": 27,
   "metadata": {},
   "outputs": [
    {
     "data": {
      "text/plain": [
       "'C:/Users/KIIT/Downloads/datafile.txt'"
      ]
     },
     "execution_count": 27,
     "metadata": {},
     "output_type": "execute_result"
    }
   ],
   "source": [
    "import os.path\n",
    "os.path.join(\"Downloads\", \"C:/Users/KIIT/Downloads/datafile.txt\")\n",
    "# data/mydata.txt - Unix\n",
    "# data\\mydata.txt - Windows"
   ]
  },
  {
   "cell_type": "code",
   "execution_count": 28,
   "metadata": {},
   "outputs": [
    {
     "name": "stdout",
     "output_type": "stream",
     "text": [
      "file C:/Users/KIIT/Downloads/datafile.txt exists\n",
      "Index\tOrganism\tScore\n",
      "\n",
      "1\tHuman\t\t1.076\n",
      "\n",
      "2\tMouse\t\t1.202\n",
      "\n",
      "3\tFrog\t\t2.2362\n",
      "\n",
      "4\tFly\t\t0.9853\n"
     ]
    }
   ],
   "source": [
    "import os.path\n",
    "data_file = os.path.join(\"Downloads\", \"C:/Users/KIIT/Downloads/datafile.txt\")\n",
    "if os.path.exists(data_file):\n",
    "    print(\"file\", data_file, \"exists\")\n",
    "    with open(data_file) as f:\n",
    "        print(f.read())\n",
    "else:\n",
    "    print(\"file\", data_file, \"not found!\")"
   ]
  },
  {
   "cell_type": "code",
   "execution_count": null,
   "metadata": {},
   "outputs": [],
   "source": []
  }
 ],
 "metadata": {
  "kernelspec": {
   "display_name": "Python 3",
   "language": "python",
   "name": "python3"
  },
  "language_info": {
   "codemirror_mode": {
    "name": "ipython",
    "version": 3
   },
   "file_extension": ".py",
   "mimetype": "text/x-python",
   "name": "python",
   "nbconvert_exporter": "python",
   "pygments_lexer": "ipython3",
   "version": "3.8.8"
  }
 },
 "nbformat": 4,
 "nbformat_minor": 1
}
