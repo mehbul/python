{
 "cells": [
  {
   "cell_type": "code",
   "execution_count": 1,
   "id": "eeec5a2f",
   "metadata": {},
   "outputs": [
    {
     "name": "stdout",
     "output_type": "stream",
     "text": [
      "Enter a number:5\n",
      "5 x 1 = 5\n",
      "5 x 2 = 10\n",
      "5 x 3 = 15\n",
      "5 x 4 = 20\n",
      "5 x 5 = 25\n",
      "5 x 6 = 30\n",
      "5 x 7 = 35\n",
      "5 x 8 = 40\n",
      "5 x 9 = 45\n",
      "5 x 10 = 50\n"
     ]
    }
   ],
   "source": [
    "#WAP to print table of n, where n is entered by the user\n",
    "num=int(input('Enter a number:'))\n",
    "for i in range(1,11):\n",
    "    print(num,'x',i,'=',num*i)"
   ]
  },
  {
   "cell_type": "code",
   "execution_count": 6,
   "id": "038a86e6",
   "metadata": {},
   "outputs": [
    {
     "name": "stdout",
     "output_type": "stream",
     "text": [
      "enter a number:25\n",
      "the sum of n natural numbers from 1 to 25:325\n"
     ]
    }
   ],
   "source": [
    "#WAP to print sum of n natural numbers, where n is entered by the user.\n",
    "n=int(input('enter a number:'))\n",
    "sum=0\n",
    "for i in range(1,n+1):\n",
    "    sum=sum+i;\n",
    "print(\"the sum of n natural numbers from 1 to {}:{}\".format(n,sum))"
   ]
  },
  {
   "cell_type": "code",
   "execution_count": 9,
   "id": "01a064a4",
   "metadata": {},
   "outputs": [
    {
     "name": "stdout",
     "output_type": "stream",
     "text": [
      "Enter a number:5\n",
      "The factorial of a  5 is  120\n"
     ]
    }
   ],
   "source": [
    "#WAP to print the factorial of the given number, where number is entered by the user.\n",
    "n=int(input('Enter a number:'))\n",
    "fact=1\n",
    "if(n<0):\n",
    "    print(\"Factorial of negative number doesn't exist\")\n",
    "elif(n==0):\n",
    "    print(\"Factorial of 0 is 1\")\n",
    "else:\n",
    "    for i in range(1,n+1):\n",
    "        fact=fact*i\n",
    "    print(\"The factorial of a \",n,\"is \",fact)"
   ]
  },
  {
   "cell_type": "code",
   "execution_count": 1,
   "id": "8caadc3d",
   "metadata": {},
   "outputs": [
    {
     "name": "stdout",
     "output_type": "stream",
     "text": [
      "Enter the number of days:4\n",
      "\n",
      "\n",
      "Enter a sale for day  0\n",
      "10\n",
      "Enter a sale for day  1\n",
      "5\n",
      "Enter a sale for day  2\n",
      "8\n",
      "Enter a sale for day  3\n",
      "12\n",
      "Sale is: [10, 5, 8, 12]\n",
      "Average sale of the month is : 8.75\n"
     ]
    }
   ],
   "source": [
    "#WAP to input sales of the month and calculate the average sales of that month \n",
    "#and calculate the average sales of that month\n",
    "def average(lst):\n",
    "    return sum(lst)/len(lst)\n",
    "list=[]\n",
    "n=int(input('Enter the number of days:'))\n",
    "print('\\n')\n",
    "for i in range(0,n):\n",
    "    print('Enter a sale for day ',i)\n",
    "    item=int(input())\n",
    "    list.append(item)\n",
    "print('Sale is:',list)\n",
    "Average=average(list)\n",
    "print('Average sale of the month is :',round(Average,2))"
   ]
  },
  {
   "cell_type": "code",
   "execution_count": null,
   "id": "2b97c6e2",
   "metadata": {},
   "outputs": [],
   "source": []
  }
 ],
 "metadata": {
  "kernelspec": {
   "display_name": "Python 3",
   "language": "python",
   "name": "python3"
  },
  "language_info": {
   "codemirror_mode": {
    "name": "ipython",
    "version": 3
   },
   "file_extension": ".py",
   "mimetype": "text/x-python",
   "name": "python",
   "nbconvert_exporter": "python",
   "pygments_lexer": "ipython3",
   "version": "3.8.8"
  }
 },
 "nbformat": 4,
 "nbformat_minor": 5
}
