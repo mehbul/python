{
 "cells": [
  {
   "cell_type": "code",
   "execution_count": 3,
   "id": "0b307cab",
   "metadata": {},
   "outputs": [
    {
     "name": "stdout",
     "output_type": "stream",
     "text": [
      "{'a': 2, 'e': 5, 'i': 3, 'o': 5, 'u': 3}\n"
     ]
    }
   ],
   "source": [
    "#Python Program to Count the Number of Each Vowel Using a list and a dictionary comprehension\n",
    "mystr=\"Hello, have you tried our tutorial section yet?\"\n",
    "mystr=mystr.casefold()\n",
    "count={x:sum([1 for char in mystr if char==x])for x in \"aeiou\"}\n",
    "print(count)"
   ]
  },
  {
   "cell_type": "code",
   "execution_count": 6,
   "id": "5a274baf",
   "metadata": {},
   "outputs": [
    {
     "name": "stdout",
     "output_type": "stream",
     "text": [
      "The input is  coolandcool\n",
      "The length of the longest non-repeating character substring is  6\n"
     ]
    }
   ],
   "source": [
    "#Python Program Given a string, find the length of the longest substring without repeating characters.\n",
    "def longstr(mystr): \n",
    "    n = len(mystr)\n",
    "    res = 0\n",
    "    for i in range(n):\n",
    "        visited = [0] * 256  \n",
    "        for j in range(i, n):\n",
    "            if (visited[ord(mystr[j])] == True):\n",
    "                break\n",
    "            else:\n",
    "                res = max(res, j - i + 1)\n",
    "                visited[ord(mystr[j])] = True\n",
    "        visited[ord(mystr[i])] = False\n",
    "    return res\n",
    " \n",
    "mystr = \"coolandcool\"\n",
    "print(\"The input is \", mystr)\n",
    " \n",
    "l = longstr(mystr)\n",
    "print(\"The length of the longest non-repeating character substring is \",str(l))"
   ]
  },
  {
   "cell_type": "code",
   "execution_count": 9,
   "id": "aa2e2f28",
   "metadata": {},
   "outputs": [
    {
     "name": "stdout",
     "output_type": "stream",
     "text": [
      "[1, 2]\n"
     ]
    }
   ],
   "source": [
    "#Python Program Given an array of integers, return indices of the two numbers such that they add up to a specific target.\n",
    "def twoSum(nums,target):\n",
    "    i=0\n",
    "    while True:\n",
    "        for j in range(i+1,len(nums)):\n",
    "            if nums[i]+nums[j]==target:\n",
    "                return [i,j]\n",
    "        i+=1\n",
    "l=[2,8,12,15]\n",
    "print(str(twoSum(l,20)))"
   ]
  },
  {
   "cell_type": "code",
   "execution_count": 7,
   "id": "6b1451d6",
   "metadata": {},
   "outputs": [],
   "source": [
    "\n"
   ]
  }
 ],
 "metadata": {
  "kernelspec": {
   "display_name": "Python 3",
   "language": "python",
   "name": "python3"
  },
  "language_info": {
   "codemirror_mode": {
    "name": "ipython",
    "version": 3
   },
   "file_extension": ".py",
   "mimetype": "text/x-python",
   "name": "python",
   "nbconvert_exporter": "python",
   "pygments_lexer": "ipython3",
   "version": "3.8.8"
  }
 },
 "nbformat": 4,
 "nbformat_minor": 5
}
