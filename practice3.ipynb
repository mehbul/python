{
 "cells": [
  {
   "cell_type": "code",
   "execution_count": 2,
   "id": "5f1e104e",
   "metadata": {},
   "outputs": [
    {
     "name": "stdout",
     "output_type": "stream",
     "text": [
      "Enter a number:10\n",
      "Fibonnaci sequence is:\n",
      "0\n",
      "1\n",
      "1\n",
      "2\n",
      "3\n",
      "5\n",
      "8\n",
      "13\n",
      "21\n",
      "34\n"
     ]
    }
   ],
   "source": [
    "#Python Program to Print the Fibonacci sequence\n",
    "nterm=int(input(\"Enter a number:\"))\n",
    "n1,n2=0,1\n",
    "count=0\n",
    "if(nterm<=0):\n",
    "    print(\"Enter a positive number:\")\n",
    "elif nterm==1:\n",
    "    print(\"Fibonacci sequence upto {0} is:{1}\".format(nterm,n1))  \n",
    "else:\n",
    "    print(\"Fibonnaci sequence is:\")\n",
    "    while count<nterm:\n",
    "        print(n1)\n",
    "        n3=n1+n2;\n",
    "        n1=n2\n",
    "        n2=n3\n",
    "        count+=1"
   ]
  },
  {
   "cell_type": "code",
   "execution_count": 6,
   "id": "249bdb74",
   "metadata": {},
   "outputs": [
    {
     "name": "stdout",
     "output_type": "stream",
     "text": [
      "Enter a positive number:407\n",
      "Armstrong number:407\n"
     ]
    }
   ],
   "source": [
    "#Python Program to Check Armstrong Number (for 3 digits)\n",
    "num=int(input(\"Enter a positive number:\"))\n",
    "sum=0\n",
    "temp=num\n",
    "while temp>0:\n",
    "    d=temp%10\n",
    "    sum+=d**3\n",
    "    temp//=10\n",
    "if(num==sum):\n",
    "    print(\"Armstrong number:{}\".format(num))\n",
    "else:\n",
    "    print(\"It is not an Armstrong number:{}\".format(num))"
   ]
  },
  {
   "cell_type": "code",
   "execution_count": 3,
   "id": "e2f6f56a",
   "metadata": {},
   "outputs": [
    {
     "name": "stdout",
     "output_type": "stream",
     "text": [
      "Enter a positive number:407\n",
      "Sum of digits is : 407\n"
     ]
    }
   ],
   "source": [
    "#Python Program to find the sum of the cube of each digit\n",
    "num=int(input(\"Enter a positive number:\"))\n",
    "sum=0\n",
    "while(num>0):\n",
    "    d=num%10\n",
    "    sum+=d**3\n",
    "    num//=10\n",
    "print(\"Sum of digits is :\",sum)"
   ]
  },
  {
   "cell_type": "code",
   "execution_count": 3,
   "id": "07235838",
   "metadata": {},
   "outputs": [
    {
     "name": "stdout",
     "output_type": "stream",
     "text": [
      "Enter lower limit:100\n",
      "Enter upper limit:1000\n",
      "153\n",
      "370\n",
      "371\n",
      "407\n"
     ]
    }
   ],
   "source": [
    "# Program to check Armstrong numbers in a certain interval\n",
    "\n",
    "lower = int(input(\"Enter lower limit:\"))\n",
    "upper = int(input(\"Enter upper limit:\"))\n",
    "\n",
    "for num in range(lower, upper + 1):\n",
    "\n",
    "   # order of number\n",
    "   order = len(str(num))\n",
    "    \n",
    "   # initialize sum\n",
    "   sum = 0\n",
    "\n",
    "   temp = num\n",
    "   while temp > 0:\n",
    "       digit = temp % 10\n",
    "       sum += digit ** order\n",
    "       temp //= 10\n",
    "\n",
    "   if num == sum:\n",
    "       print(num)"
   ]
  },
  {
   "cell_type": "code",
   "execution_count": null,
   "id": "ccc60cfb",
   "metadata": {},
   "outputs": [],
   "source": []
  }
 ],
 "metadata": {
  "kernelspec": {
   "display_name": "Python 3",
   "language": "python",
   "name": "python3"
  },
  "language_info": {
   "codemirror_mode": {
    "name": "ipython",
    "version": 3
   },
   "file_extension": ".py",
   "mimetype": "text/x-python",
   "name": "python",
   "nbconvert_exporter": "python",
   "pygments_lexer": "ipython3",
   "version": "3.8.8"
  }
 },
 "nbformat": 4,
 "nbformat_minor": 5
}
