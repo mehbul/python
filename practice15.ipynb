{
 "cells": [
  {
   "cell_type": "code",
   "execution_count": 3,
   "id": "940cbc66",
   "metadata": {},
   "outputs": [
    {
     "name": "stdout",
     "output_type": "stream",
     "text": [
      "['KENYA', 'UGANDA', 'TANZANIA', 'ETHOPIA', 'AZERBAIJAN']\n"
     ]
    }
   ],
   "source": [
    "# Set the values in the new list to upper case\n",
    "c = ['Kenya','Uganda', 'Tanzania','Ethopia','Azerbaijan']\n",
    "print(list(map(lambda x:x.upper(),c)))"
   ]
  },
  {
   "cell_type": "code",
   "execution_count": 4,
   "id": "7847f7a3",
   "metadata": {},
   "outputs": [
    {
     "name": "stdout",
     "output_type": "stream",
     "text": [
      "['Azerbaijan', 'Ethopia', 'Kenya', 'Tanzania', 'Uganda']\n"
     ]
    }
   ],
   "source": [
    "# Sort the string list alphabetically\n",
    "c = ['Kenya','Uganda', 'Tanzania','Ethopia','Azerbaijan']\n",
    "c.sort()\n",
    "print(c)"
   ]
  },
  {
   "cell_type": "code",
   "execution_count": 5,
   "id": "a3e1843e",
   "metadata": {},
   "outputs": [
    {
     "name": "stdout",
     "output_type": "stream",
     "text": [
      "{1, 'a', 'c', 2, 3, 'b'}\n"
     ]
    }
   ],
   "source": [
    "# Join Two Sets\n",
    "set1 = {\"a\", \"b\" , \"c\"}\n",
    "set2 = {1, 2, 3}\n",
    "\n",
    "set3 = set1.union(set2)\n",
    "print(set3)"
   ]
  },
  {
   "cell_type": "code",
   "execution_count": 7,
   "id": "1627b720",
   "metadata": {},
   "outputs": [
    {
     "name": "stdout",
     "output_type": "stream",
     "text": [
      "{'a', 'b'}\n"
     ]
    }
   ],
   "source": [
    "#keep only the items that are present in both sets\n",
    "set1 = {\"a\", \"b\" , \"c\"}\n",
    "set2 = {\"a\",1, 2, 3,\"b\"}\n",
    "\n",
    "set3 = set1.intersection(set2)\n",
    "print(set3)"
   ]
  },
  {
   "cell_type": "code",
   "execution_count": null,
   "id": "a116fb21",
   "metadata": {},
   "outputs": [],
   "source": []
  }
 ],
 "metadata": {
  "kernelspec": {
   "display_name": "Python 3",
   "language": "python",
   "name": "python3"
  },
  "language_info": {
   "codemirror_mode": {
    "name": "ipython",
    "version": 3
   },
   "file_extension": ".py",
   "mimetype": "text/x-python",
   "name": "python",
   "nbconvert_exporter": "python",
   "pygments_lexer": "ipython3",
   "version": "3.8.8"
  }
 },
 "nbformat": 4,
 "nbformat_minor": 5
}
