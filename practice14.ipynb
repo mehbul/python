{
 "cells": [
  {
   "cell_type": "code",
   "execution_count": 4,
   "id": "5f62921f",
   "metadata": {},
   "outputs": [
    {
     "name": "stdout",
     "output_type": "stream",
     "text": [
      "8  has occurred  3  times\n"
     ]
    }
   ],
   "source": [
    "#Returns the number of times the specified element appears in the list\n",
    "def countx(lst,x):\n",
    "    return lst.count(x)\n",
    "my_list=[8,6,7,8,9,10,8]\n",
    "x=8\n",
    "print(x,\" has occurred \",countx(my_list,x),\" times\")"
   ]
  },
  {
   "cell_type": "code",
   "execution_count": 8,
   "id": "0fef67dc",
   "metadata": {},
   "outputs": [
    {
     "data": {
      "text/plain": [
       "'a'"
      ]
     },
     "execution_count": 8,
     "metadata": {},
     "output_type": "execute_result"
    }
   ],
   "source": [
    "#access first characters in a string\n",
    "l=[]\n",
    "l.append(\"asdk\")\n",
    "l.append(\"jkl;\")\n",
    "l[0][:1]"
   ]
  },
  {
   "cell_type": "code",
   "execution_count": 26,
   "id": "5750976a",
   "metadata": {},
   "outputs": [
    {
     "name": "stdout",
     "output_type": "stream",
     "text": [
      "Enter a string:slicing\n"
     ]
    },
    {
     "data": {
      "text/plain": [
       "'g'"
      ]
     },
     "execution_count": 26,
     "metadata": {},
     "output_type": "execute_result"
    }
   ],
   "source": [
    "#access Last characters in a string\n",
    "l=input(\"Enter a string:\")\n",
    "l[-1:]"
   ]
  },
  {
   "cell_type": "code",
   "execution_count": 27,
   "id": "9107bf51",
   "metadata": {},
   "outputs": [
    {
     "name": "stdout",
     "output_type": "stream",
     "text": [
      "['G', 'e', 'e', 'k', 's', ' ', '4', ' ', 'G', 'e', 'e', 'k', 's', '!']\n"
     ]
    }
   ],
   "source": [
    "# Generate a list by list comprehension\n",
    "List = [character for character in 'Geeks 4 Geeks!']\n",
    "print(List)"
   ]
  },
  {
   "cell_type": "code",
   "execution_count": null,
   "id": "da52e1d3",
   "metadata": {},
   "outputs": [],
   "source": []
  }
 ],
 "metadata": {
  "kernelspec": {
   "display_name": "Python 3",
   "language": "python",
   "name": "python3"
  },
  "language_info": {
   "codemirror_mode": {
    "name": "ipython",
    "version": 3
   },
   "file_extension": ".py",
   "mimetype": "text/x-python",
   "name": "python",
   "nbconvert_exporter": "python",
   "pygments_lexer": "ipython3",
   "version": "3.8.8"
  }
 },
 "nbformat": 4,
 "nbformat_minor": 5
}
