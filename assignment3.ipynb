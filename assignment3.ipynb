{
 "cells": [
  {
   "cell_type": "code",
   "execution_count": 29,
   "id": "38680f07",
   "metadata": {},
   "outputs": [],
   "source": [
    "#You need to read item details from one dictionary and create one final printable bill with good format\n",
    "order = [{'ITEMS': 'BURGER', 'PRICE': 156.99,}, \n",
    "          {'ITEMS': 'PIZZA', 'PRICE': 350.0,}, \n",
    "          {'ITEMS': 'CHILLI POTATO', 'PRICE': 110.05,}, \n",
    "          {'ITEMS': 'CHICKEN WINGS', 'PRICE': 250.5,}]\n",
    "with open('bill.csv', 'w') as output:\n",
    "    # write a header\n",
    "    header = \",\".join(['ITEMS', 'PRICE'])\n",
    "    output.write(header + \"\\n\")\n",
    "    for row in order:\n",
    "        line = \",\".join([str(row['ITEMS']),str(row['PRICE'])])\n",
    "        output.write(line + \"\\n\")"
   ]
  },
  {
   "cell_type": "code",
   "execution_count": 60,
   "id": "66426ced",
   "metadata": {},
   "outputs": [],
   "source": [
    "order = [{'ITEMS': 'BURGER', 'PRICE': 156.99,}, \n",
    "          {'ITEMS': 'PIZZA ', 'PRICE': 350.0,}, \n",
    "          {'ITEMS': 'CHILLI\\nPOTATO', 'PRICE': 110.05,}, \n",
    "          {'ITEMS': 'CHICKEN\\nWINGS ', 'PRICE': 250.5,}]\n",
    "\n",
    "with open ('bill.text','w') as output:\n",
    "    output.write(\"---------BILL---------\\n\")\n",
    "    output.write(\"ITEMS\\t\\t\\tPRICE\\n\")\n",
    "    for row in order:\n",
    "        line=\"\\t\\t\".join([str(row['ITEMS']),str(row['PRICE'])])\n",
    "        output.write(line + \"\\n\")"
   ]
  },
  {
   "cell_type": "code",
   "execution_count": null,
   "id": "07eb55a2",
   "metadata": {},
   "outputs": [],
   "source": []
  }
 ],
 "metadata": {
  "kernelspec": {
   "display_name": "Python 3",
   "language": "python",
   "name": "python3"
  },
  "language_info": {
   "codemirror_mode": {
    "name": "ipython",
    "version": 3
   },
   "file_extension": ".py",
   "mimetype": "text/x-python",
   "name": "python",
   "nbconvert_exporter": "python",
   "pygments_lexer": "ipython3",
   "version": "3.8.8"
  }
 },
 "nbformat": 4,
 "nbformat_minor": 5
}
